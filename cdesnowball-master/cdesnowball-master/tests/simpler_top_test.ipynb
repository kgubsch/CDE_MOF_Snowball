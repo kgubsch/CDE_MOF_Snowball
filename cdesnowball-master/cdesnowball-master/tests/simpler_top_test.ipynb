{
 "cells": [
  {
   "cell_type": "code",
   "execution_count": 95,
   "metadata": {},
   "outputs": [],
   "source": [
    "from chemdataextractor import Document\n",
    "from chemdataextractor.model import Compound\n",
    "from chemdataextractor.doc import Paragraph, Heading"
   ]
  },
  {
   "cell_type": "code",
   "execution_count": 96,
   "metadata": {},
   "outputs": [],
   "source": [
    "d = Document(\n",
    "    Heading(u'Synthesis of 2,4,6-trinitrotoluene (3a)'),\n",
    "    Paragraph(u'The procedure was followed to yield a pale yellow solid (diamondoid dia topology)')\n",
    ")"
   ]
  },
  {
   "cell_type": "code",
   "execution_count": 97,
   "metadata": {},
   "outputs": [
    {
     "data": {
      "text/html": [
       "<div class=\"cde-document\">\n",
       "<h2 class=\"cde-title\">Synthesis of 2,4,6-trinitrotoluene (3a)</h2>\n",
       "<p class=\"cde-paragraph\">The procedure was followed to yield a pale yellow solid (diamondoid dia topology)</p>\n",
       "</div>"
      ],
      "text/plain": [
       "<Document: 2 elements>"
      ]
     },
     "execution_count": 97,
     "metadata": {},
     "output_type": "execute_result"
    }
   ],
   "source": [
    "d"
   ]
  },
  {
   "cell_type": "code",
   "execution_count": 98,
   "metadata": {
    "scrolled": true
   },
   "outputs": [
    {
     "data": {
      "text/plain": [
       "[{'names': ['2,4,6-trinitrotoluene'], 'labels': ['3a'], 'roles': ['product']}]"
      ]
     },
     "execution_count": 98,
     "metadata": {},
     "output_type": "execute_result"
    }
   ],
   "source": [
    "d.records.serialize()"
   ]
  },
  {
   "cell_type": "code",
   "execution_count": 150,
   "metadata": {},
   "outputs": [],
   "source": [
    "from chemdataextractor.model import BaseModel, StringType, ListType, ModelType\n",
    "\n",
    "#Topology class is created with the BaseModel class as an argument\n",
    "class Topology(BaseModel):\n",
    "    full = StringType(contextual = True) \n",
    "    abrv = StringType()\n",
    "    \n",
    "Compound.topologies = ListType(ModelType(Topology))"
   ]
  },
  {
   "cell_type": "code",
   "execution_count": 160,
   "metadata": {},
   "outputs": [],
   "source": [
    "import re\n",
    "from chemdataextractor.parse import R, I, W, Optional, merge\n",
    "from chemdataextractor.parse.common import lbrct, dt, rbrct\n",
    "\n",
    "prefix = (I(u'top')).hide()\n",
    "abrv = (I(u'dia'))(u'abrv').add_action(merge)\n",
    "full = I(u'diamondoid')(u'full') #the string corresponds to the reference below. Still not sure what the syntax\n",
    "tp = (prefix + full + Optional(abrv))(u'tp')"
   ]
  },
  {
   "cell_type": "code",
   "execution_count": 161,
   "metadata": {},
   "outputs": [
    {
     "data": {
      "text/plain": [
       "'The yield statement suspends function’s execution and sends a value back to the caller, but retains enough state to enable\\nfunction to resume where it is left off. When resumed, the function continues execution immediately after \\nthe last yield run. This allows its code to produce a series of values over time, rather than \\ncomputing them at once and sending them back like a list.'"
      ]
     },
     "execution_count": 161,
     "metadata": {},
     "output_type": "execute_result"
    }
   ],
   "source": [
    "from chemdataextractor.parse.base import BaseParser\n",
    "from chemdataextractor.utils import first\n",
    "\n",
    "class TopParser(BaseParser):\n",
    "    root = tp\n",
    "\n",
    "    def interpret(self, result, start, end):\n",
    "        compound = Compound(\n",
    "            topologies=[\n",
    "                Topology(\n",
    "                    full =first(result.xpath('./full/text()')), #./ means it is searching relative\n",
    "                    abrv =first(result.xpath('./abrv/text()')) #text() selects the text nodes\n",
    "                )\n",
    "            ]\n",
    "        )\n",
    "        yield compound\n",
    "\n",
    "'''The yield statement suspends function’s execution and sends a value back to the caller, but retains enough state to enable\n",
    "function to resume where it is left off. When resumed, the function continues execution immediately after \n",
    "the last yield run. This allows its code to produce a series of values over time, rather than \n",
    "computing them at once and sending them back like a list.'''"
   ]
  },
  {
   "cell_type": "code",
   "execution_count": 162,
   "metadata": {},
   "outputs": [],
   "source": [
    "Paragraph.parsers = [TopParser()]"
   ]
  },
  {
   "cell_type": "code",
   "execution_count": 163,
   "metadata": {},
   "outputs": [],
   "source": [
    "d = Document(\n",
    "    Heading(u'Synthesis of 2,4,6-trinitrotoluene (3a)'),\n",
    "    Paragraph(u'The procedure was followed to yield a pale yellow solid (top diamondoid dia)')\n",
    ")"
   ]
  },
  {
   "cell_type": "code",
   "execution_count": 164,
   "metadata": {},
   "outputs": [
    {
     "data": {
      "text/plain": [
       "[{'names': ['2,4,6-trinitrotoluene'],\n",
       "  'labels': ['3a'],\n",
       "  'roles': ['product'],\n",
       "  'topologies': [{'full': 'diamondoid', 'abrv': 'dia'}]}]"
      ]
     },
     "execution_count": 164,
     "metadata": {},
     "output_type": "execute_result"
    }
   ],
   "source": [
    "d.records.serialize()"
   ]
  },
  {
   "cell_type": "code",
   "execution_count": null,
   "metadata": {},
   "outputs": [],
   "source": []
  },
  {
   "cell_type": "code",
   "execution_count": null,
   "metadata": {},
   "outputs": [],
   "source": []
  }
 ],
 "metadata": {
  "kernelspec": {
   "display_name": "Python 3",
   "language": "python",
   "name": "python3"
  },
  "language_info": {
   "codemirror_mode": {
    "name": "ipython",
    "version": 3
   },
   "file_extension": ".py",
   "mimetype": "text/x-python",
   "name": "python",
   "nbconvert_exporter": "python",
   "pygments_lexer": "ipython3",
   "version": "3.7.6"
  }
 },
 "nbformat": 4,
 "nbformat_minor": 4
}
