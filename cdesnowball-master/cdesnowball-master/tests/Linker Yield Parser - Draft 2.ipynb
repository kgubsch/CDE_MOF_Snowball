{
 "cells": [
  {
   "cell_type": "code",
   "execution_count": 1,
   "metadata": {},
   "outputs": [],
   "source": [
    "from __future__ import absolute_import\n",
    "from __future__ import division\n",
    "from __future__ import print_function\n",
    "from __future__ import unicode_literals\n",
    "import logging\n",
    "import re\n",
    "\n",
    "from chemdataextractor import Document\n",
    "from chemdataextractor.model import Compound\n",
    "from chemdataextractor.doc import Paragraph, Heading\n",
    "\n",
    "from chemdataextractor.parse.cem import cem, chemical_label, lenient_chemical_label, solvent_name\n",
    "from chemdataextractor.parse.common import lbrct, dt, rbrct\n",
    "from chemdataextractor.utils import first\n",
    "from chemdataextractor.model import Compound\n",
    "from chemdataextractor.parse.actions import merge, join\n",
    "from chemdataextractor.parse.base import BaseParser\n",
    "from chemdataextractor.parse.elements import W, I, R, Optional, Any, OneOrMore, Not, ZeroOrMore"
   ]
  },
  {
   "cell_type": "code",
   "execution_count": 2,
   "metadata": {},
   "outputs": [],
   "source": [
    "a = Document(\n",
    "    Paragraph(u' The precipitated solids were filtered off and repeatedly washed with hot methanol \\\n",
    "              and then dried in a vacuum oven at 100 °C to give the pure organic \\\n",
    "              linker 5,5′-((3′,5′-dicarboxy-[1,1′-biphenyl]-3,5-dicarbonyl)bis(azanediyl))diisophthalic acid (H6DBDBD)\\\n",
    "              as a white solid (0.52 g, 77.8% yield)')\n",
    ")"
   ]
  },
  {
   "cell_type": "code",
   "execution_count": 112,
   "metadata": {},
   "outputs": [],
   "source": [
    "from chemdataextractor.model import BaseModel, StringType, ListType, ModelType\n",
    "\n",
    "#Linker class is created with the BaseModel class inherited\n",
    "class LinkerYield(BaseModel):\n",
    "    yield_value = StringType()\n",
    "    units = StringType(contextual=True)\n",
    "    \n",
    "Compound.linkers = ListType(ModelType(LinkerYield))"
   ]
  },
  {
   "cell_type": "code",
   "execution_count": 113,
   "metadata": {},
   "outputs": [],
   "source": [
    "import re\n",
    "from chemdataextractor.parse import R, I, W, Optional, merge\n",
    "from chemdataextractor.parse.common import lbrct, dt, rbrct"
   ]
  },
  {
   "cell_type": "code",
   "execution_count": 114,
   "metadata": {},
   "outputs": [],
   "source": [
    "units = (Optional(I(u'g')))('units').add_action(merge)\n",
    "identifier = I(u'linker').hide()\n",
    "linker = ((cem))(u'linker').add_action(merge)\n",
    "abrv = (Optional(lbrct) + I(u'H6DBDBD') + Optional(rbrct))(u'abrv').add_action(merge)\n",
    "yield_value = (Optional(lbrct) + R(u'^\\d+(\\.\\d+)?$') + Optional(rbrct))(u'yield_value').add_action(merge)\n",
    "delim = R('^[:;\\.,]$')\n",
    "prefix = (I('yield') | I('of') | R('^,$')).hide()\n",
    "ly = (prefix + yield_value)(u'ly')\n",
    "\n",
    "bracket_any = lbrct + OneOrMore(Not(ly) + Not(rbrct) + Any()) + rbrct\n",
    "cem_ly_phrase = (Optional(cem) + Optional(chemical_label) + Optional(lenient_chemical_label) + Optional(I('having')).hide() + Optional(delim).hide() + Optional(bracket_any).hide() + Optional(delim).hide() + Optional(lbrct) + ly + Optional(rbrct))('ly_phrase')\n",
    "to_give_ly_phrase = ((I('to') + (I('give') | I('afford') | I('yield') | I('obtain')) | I('affording') | I('afforded') | I('gave') | I('yielded')).hide() + Optional(dt).hide() + (cem | chemical_label | lenient_chemical_label) + ZeroOrMore(Not(ly) + Not(cem) + Any()).hide() + ly)('ly_phrase')\n",
    "obtained_ly_phrase = ((cem | chemical_label | lenient_chemical_label) + (I('is') | I('are') | I('was')).hide() + (I('afforded') | I('obtained') | I('yielded')).hide() + ZeroOrMore(Not(ly) + Not(cem) + Any()).hide() + ly)('ly_phrase')\n",
    "\n",
    "ly_phrase = cem_ly_phrase | to_give_ly_phrase | obtained_ly_phrase"
   ]
  },
  {
   "cell_type": "code",
   "execution_count": 115,
   "metadata": {},
   "outputs": [],
   "source": [
    "from chemdataextractor.parse.base import BaseParser\n",
    "from chemdataextractor.utils import first\n",
    "\n",
    "class LinkerParser(BaseParser):\n",
    "    root = ly\n",
    "\n",
    "    def interpret(self, result, start, end):\n",
    "        compound = Compound(\n",
    "            linkers=[\n",
    "                LinkerYield(\n",
    "                    yield_value =first(result.xpath('./yield_value/text()')), #./ means it is searching relative\n",
    "                    units =first(result.xpath('./units/text()')), #text() selects the text nodes\n",
    "                )\n",
    "            ]\n",
    "        )\n",
    "        yield compound\n",
    "        cem_el = first(result.xpath('./cem'))\n",
    "        if cem_el is not None:\n",
    "            compound.names = cem_el.xpath('./name/text()')\n",
    "            compound.labels = cem_el.xpath('./label/text()')\n",
    "        yield compound"
   ]
  },
  {
   "cell_type": "code",
   "execution_count": 116,
   "metadata": {},
   "outputs": [],
   "source": [
    "Paragraph.parsers = [LinkerParser()]"
   ]
  },
  {
   "cell_type": "code",
   "execution_count": 117,
   "metadata": {},
   "outputs": [],
   "source": [
    "a = Document(\n",
    "    Paragraph(u' The precipitated solids were filtered off and repeatedly washed with hot methanol \\\n",
    "              and then dried in a vacuum oven at 100 °C to give the pure organic \\\n",
    "              linker 5,5′-((3′,5′-dicarboxy-[1,1′-biphenyl]-3,5-dicarbonyl)bis(azanediyl))diisophthalic acid (H6DBDBD)\\\n",
    "              afforded yield of 77.8%')\n",
    ")"
   ]
  },
  {
   "cell_type": "code",
   "execution_count": 118,
   "metadata": {},
   "outputs": [
    {
     "data": {
      "text/plain": [
       "[{'linkers': [{'yield_value': '77.8'}]}]"
      ]
     },
     "execution_count": 118,
     "metadata": {},
     "output_type": "execute_result"
    }
   ],
   "source": [
    "a.records.serialize()"
   ]
  },
  {
   "cell_type": "code",
   "execution_count": null,
   "metadata": {},
   "outputs": [],
   "source": []
  }
 ],
 "metadata": {
  "kernelspec": {
   "display_name": "Python 3",
   "language": "python",
   "name": "python3"
  },
  "language_info": {
   "codemirror_mode": {
    "name": "ipython",
    "version": 3
   },
   "file_extension": ".py",
   "mimetype": "text/x-python",
   "name": "python",
   "nbconvert_exporter": "python",
   "pygments_lexer": "ipython3",
   "version": "3.8.5"
  }
 },
 "nbformat": 4,
 "nbformat_minor": 4
}
