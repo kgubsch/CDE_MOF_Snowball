{
 "cells": [
  {
   "cell_type": "code",
   "execution_count": 50,
   "metadata": {},
   "outputs": [],
   "source": [
    "from __future__ import absolute_import\n",
    "from __future__ import division\n",
    "from __future__ import print_function\n",
    "from __future__ import unicode_literals\n",
    "import logging\n",
    "import re\n",
    "\n",
    "from chemdataextractor import Document\n",
    "from chemdataextractor.model import Compound\n",
    "from chemdataextractor.doc import Paragraph, Heading\n",
    "\n",
    "from chemdataextractor.parse.cem import cem, chemical_label, lenient_chemical_label, solvent_name\n",
    "from chemdataextractor.parse.common import lbrct, dt, rbrct\n",
    "from chemdataextractor.utils import first\n",
    "from chemdataextractor.model import Compound\n",
    "from chemdataextractor.parse.actions import merge, join\n",
    "from chemdataextractor.parse.base import BaseParser\n",
    "from chemdataextractor.parse.elements import W, I, R, Optional, Any, OneOrMore, Not, ZeroOrMore"
   ]
  },
  {
   "cell_type": "code",
   "execution_count": 51,
   "metadata": {},
   "outputs": [],
   "source": [
    "b = Document(\n",
    "    Paragraph(u'The product of c6h6 yielded methanol')\n",
    ")"
   ]
  },
  {
   "cell_type": "code",
   "execution_count": 52,
   "metadata": {},
   "outputs": [
    {
     "data": {
      "text/plain": [
       "[]"
      ]
     },
     "execution_count": 52,
     "metadata": {},
     "output_type": "execute_result"
    }
   ],
   "source": [
    "b.records.serialize()"
   ]
  },
  {
   "cell_type": "code",
   "execution_count": 53,
   "metadata": {},
   "outputs": [],
   "source": [
    "a = Document(\n",
    "    Paragraph(u' The precipitated solids were filtered off and repeatedly washed with hot methanol \\\n",
    "              and then dried in a vacuum oven at 100 °C to give the pure organic \\\n",
    "              linker 5,5′-((3′,5′-dicarboxy-[1,1′-biphenyl]-3,5-dicarbonyl)bis(azanediyl))diisophthalic acid (H6DBDBD)\\\n",
    "              as a white solid (0.52 g, 77.8% yield)')\n",
    ")"
   ]
  },
  {
   "cell_type": "code",
   "execution_count": 54,
   "metadata": {},
   "outputs": [
    {
     "data": {
      "text/plain": [
       "[{'linkers': [{'yield_value': '100'}]},\n",
       " {'linkers': [{'yield_value': '0.52'}]},\n",
       " {'linkers': [{'yield_value': '77.8'}]}]"
      ]
     },
     "execution_count": 54,
     "metadata": {},
     "output_type": "execute_result"
    }
   ],
   "source": [
    "a.records.serialize()"
   ]
  },
  {
   "cell_type": "code",
   "execution_count": 55,
   "metadata": {},
   "outputs": [],
   "source": [
    "from chemdataextractor.model import BaseModel, StringType, ListType, ModelType\n",
    "\n",
    "#Linker class is created with the BaseModel class inherited\n",
    "class Linker(BaseModel):\n",
    "    linker = StringType() \n",
    "    abrv = StringType()\n",
    "    yield_value = StringType()\n",
    "    \n",
    "Compound.linkers = ListType(ModelType(Linker))"
   ]
  },
  {
   "cell_type": "code",
   "execution_count": 61,
   "metadata": {},
   "outputs": [],
   "source": [
    "import re\n",
    "from chemdataextractor.parse import R, I, W, Optional, merge\n",
    "from chemdataextractor.parse.common import lbrct, dt, rbrct\n",
    "units = (Optional(I(u'g'))).add_action(merge)\n",
    "identifier = I(u'linker').hide()\n",
    "linker = ((cem))(u'linker').add_action(merge)\n",
    "abrv = (Optional(lbrct) + I(u'H6DBDBD') + Optional(rbrct))(u'abrv').add_action(merge)\n",
    "yield_value = (Optional(lbrct) + R(u'^\\d+(\\.\\d+)?$') + Optional(rbrct))(u'yield').add_action(merge)\n",
    "delim = R('^[:;\\.,]$')\n",
    "prefix = (I('yield') + I('of')).hide()\n",
    "ol = (identifier + linker + Optional(abrv) + Optional(delim) + Optional(prefix))(u'ol')\n",
    "#the identifier makes it so that it cannot find the yield easily"
   ]
  },
  {
   "cell_type": "code",
   "execution_count": 66,
   "metadata": {},
   "outputs": [],
   "source": [
    "from chemdataextractor.parse.base import BaseParser\n",
    "from chemdataextractor.utils import first\n",
    "\n",
    "class LinkerParser(BaseParser):\n",
    "    root = ol\n",
    "\n",
    "    def interpret(self, result, start, end):\n",
    "        compound = Compound(\n",
    "            linkers=[\n",
    "                Linker(\n",
    "                    linker =first(result.xpath('./linker/text()')), #./ means it is searching relative\n",
    "                    abrv =first(result.xpath('./abrv/text()')), #text() selects the text nodes\n",
    "                )\n",
    "            ]\n",
    "        )\n",
    "        yield compound"
   ]
  },
  {
   "cell_type": "code",
   "execution_count": 67,
   "metadata": {},
   "outputs": [],
   "source": [
    "Paragraph.parsers = [LinkerParser()]"
   ]
  },
  {
   "cell_type": "code",
   "execution_count": 68,
   "metadata": {},
   "outputs": [],
   "source": [
    "d = Document(\n",
    "    Paragraph(u'organic \\\n",
    "              linker 5,5′-((3′,5′-dicarboxy-[1,1′-biphenyl]-3,5-dicarbonyl)bis(azanediyl))diisophthalic acid (H6DBDBD)\\\n",
    "              with a yield of 77)')\n",
    ")"
   ]
  },
  {
   "cell_type": "code",
   "execution_count": 69,
   "metadata": {},
   "outputs": [
    {
     "data": {
      "text/plain": [
       "[{'linkers': [{'linker': '5,5′-((3′,5′-dicarboxy-[1,1′-biphenyl]-3,5-dicarbonyl)bis(azanediyl))diisophthalic acid',\n",
       "    'abrv': 'H6DBDBD'}]}]"
      ]
     },
     "execution_count": 69,
     "metadata": {},
     "output_type": "execute_result"
    }
   ],
   "source": [
    "d.records.serialize()"
   ]
  },
  {
   "cell_type": "code",
   "execution_count": null,
   "metadata": {},
   "outputs": [],
   "source": []
  }
 ],
 "metadata": {
  "kernelspec": {
   "display_name": "Python 3",
   "language": "python",
   "name": "python3"
  },
  "language_info": {
   "codemirror_mode": {
    "name": "ipython",
    "version": 3
   },
   "file_extension": ".py",
   "mimetype": "text/x-python",
   "name": "python",
   "nbconvert_exporter": "python",
   "pygments_lexer": "ipython3",
   "version": "3.8.5"
  }
 },
 "nbformat": 4,
 "nbformat_minor": 4
}
