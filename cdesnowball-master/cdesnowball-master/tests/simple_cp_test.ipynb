{
 "cells": [
  {
   "cell_type": "markdown",
   "metadata": {},
   "source": [
    "Introducing 'was' into a statemement"
   ]
  },
  {
   "cell_type": "code",
   "execution_count": 32,
   "metadata": {},
   "outputs": [],
   "source": [
    "from chemdataextractor import Document\n",
    "from chemdataextractor.model import Compound\n",
    "from chemdataextractor.doc import Paragraph, Heading"
   ]
  },
  {
   "cell_type": "code",
   "execution_count": 33,
   "metadata": {},
   "outputs": [],
   "source": [
    "d = Document(\n",
    "    Paragraph(u'The CO2 uptake capacity of TMOF-1 was 1.2 mmol g-1') #deleted -6.8 mmol to reduce complexity\n",
    ")\n",
    "#The word 'was' is the key difference in this sentence and my parser is not recognizing it"
   ]
  },
  {
   "cell_type": "code",
   "execution_count": 34,
   "metadata": {},
   "outputs": [
    {
     "data": {
      "text/html": [
       "<div class=\"cde-document\">\n",
       "<p class=\"cde-paragraph\">The CO2 uptake capacity of TMOF-1 was 1.2 mmol g-1</p>\n",
       "</div>"
      ],
      "text/plain": [
       "<Document: 1 elements>"
      ]
     },
     "execution_count": 34,
     "metadata": {},
     "output_type": "execute_result"
    }
   ],
   "source": [
    "d"
   ]
  },
  {
   "cell_type": "code",
   "execution_count": 35,
   "metadata": {},
   "outputs": [
    {
     "data": {
      "text/plain": [
       "[{'capacities': [{'value': '1.2', 'units': 'mmolg-1'}]}]"
      ]
     },
     "execution_count": 35,
     "metadata": {},
     "output_type": "execute_result"
    }
   ],
   "source": [
    "d.records.serialize()"
   ]
  },
  {
   "cell_type": "code",
   "execution_count": 36,
   "metadata": {},
   "outputs": [],
   "source": [
    "from chemdataextractor.model import BaseModel, StringType, ListType, ModelType\n",
    "\n",
    "class Capacity(BaseModel):\n",
    "    value = StringType()\n",
    "    units = StringType()\n",
    "    \n",
    "Compound.capacities = ListType(ModelType(Capacity))"
   ]
  },
  {
   "cell_type": "code",
   "execution_count": 37,
   "metadata": {},
   "outputs": [],
   "source": [
    "import re\n",
    "from chemdataextractor.parse import R, I, W, Optional, merge\n",
    "from chemdataextractor.parse.common import lbrct, dt, rbrct\n",
    "\n",
    "prefix = (Optional(I(u'uptake')) + Optional(I(u'capacity')) + Optional(I('was'))).hide()\n",
    "units = (I(u'mmol') + I('g-1'))(u'units').add_action(merge)\n",
    "value = R(u'^\\d+(\\.\\d+)?$')(u'value')\n",
    "cp = (prefix + value + units)(u'cp')"
   ]
  },
  {
   "cell_type": "code",
   "execution_count": 38,
   "metadata": {},
   "outputs": [],
   "source": [
    "#bracket_any = lbrct + OneOrMore(Not(cp) + Not(rbrct) + Any()) + rbrct\n",
    "#delim = R('^[:;\\.,]$')\n",
    "#cem_cp_phrase = (Optional(cem) + Optional(I('having')).hide() + Optional(delim).hide() + Optional(bracket_any).hide() + Optional(delim).hide() + Optional(lbrct) + cp + Optional(rbrct))('cp_phrase')"
   ]
  },
  {
   "cell_type": "code",
   "execution_count": 39,
   "metadata": {},
   "outputs": [],
   "source": [
    "from chemdataextractor.parse.base import BaseParser\n",
    "from chemdataextractor.utils import first\n",
    "\n",
    "class CpParser(BaseParser):\n",
    "    root = cp\n",
    "\n",
    "    def interpret(self, result, start, end):\n",
    "        compound = Compound(\n",
    "            capacities=[\n",
    "                Capacity(\n",
    "                    value=first(result.xpath('./value/text()')),\n",
    "                    units=first(result.xpath('./units/text()'))\n",
    "                )\n",
    "            ]\n",
    "        )\n",
    "        yield compound"
   ]
  },
  {
   "cell_type": "code",
   "execution_count": 40,
   "metadata": {},
   "outputs": [],
   "source": [
    "Paragraph.parsers = [CpParser()]"
   ]
  },
  {
   "cell_type": "code",
   "execution_count": 41,
   "metadata": {},
   "outputs": [],
   "source": [
    "d = Document(\n",
    "    Paragraph(u'The CO2 uptake capacity of TMOF-1 was 1.2 mmol g-1') #deleted -6.8 mmol to reduce complexity\n",
    ")"
   ]
  },
  {
   "cell_type": "code",
   "execution_count": 42,
   "metadata": {},
   "outputs": [
    {
     "data": {
      "text/plain": [
       "[{'capacities': [{'value': '1.2', 'units': 'mmolg-1'}]}]"
      ]
     },
     "execution_count": 42,
     "metadata": {},
     "output_type": "execute_result"
    }
   ],
   "source": [
    "d.records.serialize()"
   ]
  },
  {
   "cell_type": "markdown",
   "metadata": {},
   "source": [
    "Chemical name recognition with value recognition"
   ]
  },
  {
   "cell_type": "code",
   "execution_count": 43,
   "metadata": {},
   "outputs": [],
   "source": [
    "c = Document(\n",
    "    Paragraph(u'The CO2 uptake capacity of TMOF-1 was 1.2 mmol g-1') #deleted -6.8 mmol to reduce complexity\n",
    ")\n",
    "#The word 'was' is the key difference in this sentence and my parser is not recognizing it"
   ]
  },
  {
   "cell_type": "code",
   "execution_count": 44,
   "metadata": {},
   "outputs": [
    {
     "data": {
      "text/html": [
       "<div class=\"cde-document\">\n",
       "<p class=\"cde-paragraph\">The CO2 uptake capacity of TMOF-1 was 1.2 mmol g-1</p>\n",
       "</div>"
      ],
      "text/plain": [
       "<Document: 1 elements>"
      ]
     },
     "execution_count": 44,
     "metadata": {},
     "output_type": "execute_result"
    }
   ],
   "source": [
    "c"
   ]
  },
  {
   "cell_type": "code",
   "execution_count": 45,
   "metadata": {},
   "outputs": [
    {
     "data": {
      "text/plain": [
       "[{'capacities': [{'value': '1.2', 'units': 'mmolg-1'}]}]"
      ]
     },
     "execution_count": 45,
     "metadata": {},
     "output_type": "execute_result"
    }
   ],
   "source": [
    "c.records.serialize()"
   ]
  },
  {
   "cell_type": "code",
   "execution_count": 46,
   "metadata": {},
   "outputs": [],
   "source": [
    "from chemdataextractor.model import BaseModel, StringType, ListType, ModelType\n",
    "\n",
    "class Capacity(BaseModel):\n",
    "    value = StringType()\n",
    "    units = StringType()\n",
    "    \n",
    "Compound.capacities = ListType(ModelType(Capacity))"
   ]
  },
  {
   "cell_type": "code",
   "execution_count": 47,
   "metadata": {},
   "outputs": [],
   "source": [
    "import re\n",
    "from chemdataextractor.parse import R, I, W, Optional, merge\n",
    "from chemdataextractor.parse.common import lbrct, dt, rbrct\n",
    "\n",
    "prefix = (Optional(I(u'uptake')) + Optional(I(u'capacity')) + Optional(I('was'))).hide()\n",
    "units = (I(u'mmol') + I('g-1'))(u'units').add_action(merge)\n",
    "value = R(u'^\\d+(\\.\\d+)?$')(u'value')\n",
    "cp = (prefix + value + units)(u'cp')"
   ]
  },
  {
   "cell_type": "code",
   "execution_count": 55,
   "metadata": {},
   "outputs": [],
   "source": [
    "from chemdataextractor.parse.cem import cem, chemical_label, lenient_chemical_label, solvent_name\n",
    "from chemdataextractor.parse.elements import W, I, R, Optional, Any, OneOrMore, Not, ZeroOrMore\n",
    "\n",
    "bracket_any = lbrct + OneOrMore(Not(cp) + Not(rbrct) + Any()) + rbrct\n",
    "delim = R('^[:;\\.,]$')\n",
    "cem_cp_phrase = (Optional(cem) + Optional(chemical_label) + Optional(lenient_chemical_label) + Optional(I('having')).hide() + Optional(delim).hide() + Optional(bracket_any).hide() + Optional(delim).hide() + Optional(lbrct) + cp + Optional(rbrct))('cp_phrase')\n",
    "to_give_cp_phrase = ((I('to') + (I('give') | I('afford') | I('yield') | I('obtain')) | I('affording') | I('afforded') | I('gave') | I('yielded')).hide() + Optional(dt).hide() + (cem | chemical_label | lenient_chemical_label) + ZeroOrMore(Not(cp) + Not(cem) + Any()).hide() + cp)('cp_phrase')\n",
    "obtained_cp_phrase = ((cem | chemical_label | lenient_chemical_label) + (I('is') | I('are') | I('was')).hide() + (I('afforded') | I('obtained') | I('yielded')).hide() + ZeroOrMore(Not(cp) + Not(cem) + Any()).hide() + cp)('cp_phrase')\n",
    "\n",
    "cp_phrase = cem_cp_phrase | to_give_cp_phrase | obtained_cp_phrase"
   ]
  },
  {
   "cell_type": "code",
   "execution_count": 61,
   "metadata": {},
   "outputs": [],
   "source": [
    "from chemdataextractor.parse.base import BaseParser\n",
    "from chemdataextractor.utils import first\n",
    "\n",
    "class cem_CpParser(BaseParser):\n",
    "    root = cp_phrase\n",
    "\n",
    "    def interpret(self, result, start, end):\n",
    "        compound = Compound(\n",
    "            capacities=[\n",
    "                Capacity(\n",
    "                    value=first(result.xpath('./value/text()')),\n",
    "                    units=first(result.xpath('./units/text()'))\n",
    "                )\n",
    "            ]\n",
    "        )\n",
    "        cem_el = first(result.xpath('./cem'))\n",
    "        if cem_el is not None:\n",
    "            compound.names = cem_el.xpath('./name/text()')\n",
    "            compound.labels = cem_el.xpath('./label/text()')\n",
    "        yield compound"
   ]
  },
  {
   "cell_type": "code",
   "execution_count": 62,
   "metadata": {},
   "outputs": [],
   "source": [
    "Paragraph.parsers = [cem_CpParser()]"
   ]
  },
  {
   "cell_type": "code",
   "execution_count": 64,
   "metadata": {},
   "outputs": [],
   "source": [
    "c = Document(\n",
    "    Paragraph(u'The CO2 uptake capacity of TMOF-1 was 1.2 mmol g-1') #deleted -6.8 mmol to reduce complexity\n",
    ")"
   ]
  },
  {
   "cell_type": "code",
   "execution_count": 65,
   "metadata": {},
   "outputs": [
    {
     "data": {
      "text/plain": [
       "[{'names': ['TMOF-1'], 'capacities': [{}]}]"
      ]
     },
     "execution_count": 65,
     "metadata": {},
     "output_type": "execute_result"
    }
   ],
   "source": [
    "c.records.serialize()"
   ]
  },
  {
   "cell_type": "code",
   "execution_count": null,
   "metadata": {},
   "outputs": [],
   "source": []
  }
 ],
 "metadata": {
  "kernelspec": {
   "display_name": "Python 3",
   "language": "python",
   "name": "python3"
  },
  "language_info": {
   "codemirror_mode": {
    "name": "ipython",
    "version": 3
   },
   "file_extension": ".py",
   "mimetype": "text/x-python",
   "name": "python",
   "nbconvert_exporter": "python",
   "pygments_lexer": "ipython3",
   "version": "3.7.6"
  }
 },
 "nbformat": 4,
 "nbformat_minor": 4
}
