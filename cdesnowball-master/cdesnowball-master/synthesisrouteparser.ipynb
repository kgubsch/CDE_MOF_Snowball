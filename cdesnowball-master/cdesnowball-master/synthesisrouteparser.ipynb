{
 "cells": [
  {
   "cell_type": "code",
   "execution_count": 9,
   "metadata": {},
   "outputs": [],
   "source": [
    "from chemdataextractor import Document\n",
    "from chemdataextractor.model import Compound\n",
    "from chemdataextractor.doc import Paragraph, Heading"
   ]
  },
  {
   "cell_type": "code",
   "execution_count": 15,
   "metadata": {},
   "outputs": [],
   "source": [
    "d = Document(\n",
    "    Heading(u'Synthesis of 2,4,6-trinitrotoluene (3a)'),\n",
    "    Paragraph(u'The procedure was followed to yield a pale yellow solid (syntheses microwave-assisted mechanochemically)')\n",
    ")"
   ]
  },
  {
   "cell_type": "markdown",
   "metadata": {},
   "source": [
    "d"
   ]
  },
  {
   "cell_type": "code",
   "execution_count": 16,
   "metadata": {},
   "outputs": [
    {
     "data": {
      "text/plain": [
       "[{'names': ['2,4,6-trinitrotoluene'],\n",
       "  'labels': ['3a'],\n",
       "  'roles': ['product'],\n",
       "  'synthesis_routes': [{'synthesis': 'mechanochemically',\n",
       "    'descriptor': 'microwave-assisted'}]}]"
      ]
     },
     "execution_count": 16,
     "metadata": {},
     "output_type": "execute_result"
    }
   ],
   "source": [
    "d.records.serialize()"
   ]
  },
  {
   "cell_type": "code",
   "execution_count": 17,
   "metadata": {},
   "outputs": [
    {
     "data": {
      "text/plain": [
       "[{'names': ['MOF-5 / COF', 'M5C'], 'roles': ['product']}]"
      ]
     },
     "execution_count": 17,
     "metadata": {},
     "output_type": "execute_result"
    }
   ],
   "source": [
    "e = Document(\n",
    "    Heading(u'Preparation of MOF-5/COF (M5C).'), \n",
    "    Paragraph(u'MOF-5-NH2 (0.20 g), 0.5 g (3.96 mmol) of melamine, 0.5 g (3.73 mmol) of terephthaldehyde, 25 mL of DMSO, and 5 mL of distilled water')\n",
    ")\n",
    "e.records.serialize()"
   ]
  },
  {
   "cell_type": "code",
   "execution_count": 18,
   "metadata": {},
   "outputs": [],
   "source": [
    "from chemdataextractor.model import BaseModel, StringType, ListType, ModelType\n",
    "\n",
    "class SynthesisRoute(BaseModel):\n",
    "    synthesis = StringType()\n",
    "    descriptor = StringType()\n",
    "    prefix = StringType()\n",
    "Compound.synthesis_routes = ListType(ModelType(SynthesisRoute))"
   ]
  },
  {
   "cell_type": "code",
   "execution_count": 19,
   "metadata": {},
   "outputs": [],
   "source": [
    "import re\n",
    "from chemdataextractor.parse import R, I, W, Optional, merge\n",
    "\n",
    "prefix = (R(u'^[Ss]ynthe((si(s|sed|zed|se|ze))|tic|ses)?$')| R(u'^[Pp]repar(ation|ed|e)?$')| R(u'^[Pp]roduc(tion|e|ed)?$')).hide()\n",
    "descriptor = (R(u'^[Mm]icrowave$', re.I)+ Optional(R('^[\\-‐‑⁃‒–—―−－⁻]$'))+R(u'assisted'))(u'descriptor').add_action(merge)\n",
    "micro = I(u'microwave-assisted')\n",
    "synthesis = (Optional(micro)+R(u'^[SsHh](olv|ydr)othermal(ly)?$')|R(u'^[eEmMsS](lectr|on|echan)ochemical(ly)?$')| micro)(u'synthesis')\n",
    "sr = (prefix + Optional(descriptor) + synthesis)(u'sr')"
   ]
  },
  {
   "cell_type": "code",
   "execution_count": 20,
   "metadata": {},
   "outputs": [],
   "source": [
    "from chemdataextractor.parse.base import BaseParser\n",
    "from chemdataextractor.utils import first\n",
    "\n",
    "class SynthParser(BaseParser):\n",
    "    root = sr\n",
    "\n",
    "    def interpret(self, result, start, end):\n",
    "        compound = Compound(\n",
    "            synthesis_routes=[\n",
    "                SynthesisRoute(\n",
    "                    synthesis=first(result.xpath('./synthesis/text()')),\n",
    "                    descriptor=first(result.xpath('./descriptor/text()'))\n",
    "                )\n",
    "            ]\n",
    "        )\n",
    "        yield compound"
   ]
  },
  {
   "cell_type": "code",
   "execution_count": 21,
   "metadata": {},
   "outputs": [],
   "source": [
    "Paragraph.parsers = [SynthParser()]"
   ]
  },
  {
   "cell_type": "markdown",
   "metadata": {
    "scrolled": true
   },
   "source": [
    "d = Document(\n",
    "    Heading(u'Synthesis of 2,4,6-trinitrotoluene (3a)'),\n",
    "    Paragraph(u'The procedure was followed to yield a pale yellow solid (solvothermal synthesis °C)')\n",
    "\n",
    "\n",
    "d.records.serialize()"
   ]
  },
  {
   "cell_type": "code",
   "execution_count": null,
   "metadata": {},
   "outputs": [],
   "source": []
  },
  {
   "cell_type": "code",
   "execution_count": null,
   "metadata": {},
   "outputs": [],
   "source": []
  }
 ],
 "metadata": {
  "kernelspec": {
   "display_name": "Python 3",
   "language": "python",
   "name": "python3"
  },
  "language_info": {
   "codemirror_mode": {
    "name": "ipython",
    "version": 3
   },
   "file_extension": ".py",
   "mimetype": "text/x-python",
   "name": "python",
   "nbconvert_exporter": "python",
   "pygments_lexer": "ipython3",
   "version": "3.8.5"
  }
 },
 "nbformat": 4,
 "nbformat_minor": 4
}
