{
 "cells": [
  {
   "cell_type": "code",
   "execution_count": 13,
   "metadata": {},
   "outputs": [],
   "source": [
    "from __future__ import absolute_import\n",
    "from __future__ import division\n",
    "from __future__ import print_function\n",
    "from __future__ import unicode_literals\n",
    "import logging\n",
    "import re\n",
    "\n",
    "from chemdataextractor import Document\n",
    "from chemdataextractor.model import Compound\n",
    "from chemdataextractor.doc import Paragraph, Heading"
   ]
  },
  {
   "cell_type": "code",
   "execution_count": 14,
   "metadata": {},
   "outputs": [],
   "source": [
    "from chemdataextractor.model import Compound, NmrSpectrum, NmrPeak\n",
    "from chemdataextractor.parse.common import cc, equals\n",
    "from chemdataextractor.parse.base import BaseParser\n",
    "from chemdataextractor.utils import first\n",
    "from chemdataextractor.parse.actions import join, merge, strip_stop, fix_whitespace\n",
    "from chemdataextractor.parse.elements import W, I, T, R, Optional, ZeroOrMore, SkipTo, OneOrMore, Not, Group\n",
    "from chemdataextractor.parse.cem import chemical_name, nmr_solvent\n",
    "log = logging.getLogger(__name__)\n",
    "\n",
    "\n",
    "number = R('^\\d+(\\.\\d+)?$')\n",
    "\n",
    "nucleus = (\n",
    "    W('1H') | W('13C') | W('15N') | W('31P') | W('19F') | W('11B') | W('29Si') | W('17O') | W('73Ge') | W('195Pt') |\n",
    "    W('33S') | W('13C{1H}') | W('13C{1H') + W('}') | W('H1') | W('C13') | W('N15') | W('P31') | W('F19') | W('B11') |\n",
    "    W('Si29') | W('Ge73') | W('Pt195') | W('S33')\n",
    ")('nucleus').add_action(merge)\n",
    "\n",
    "nmr_name = R('^N\\.?M\\.?R\\.?\\(?$', re.I).hide()\n",
    "\n",
    "nmr_name_with_nucleus = R('^(1H|13C)N\\.?M\\.?R\\.?\\(?$', re.I, group=1)('nucleus')\n",
    "\n",
    "frequency = (number('value') + R('^M?Hz$')('units'))('frequency')\n",
    "\n",
    "delim = R('^[;:,\\./]$').hide()\n",
    "\n",
    "solvent = ((nmr_solvent | chemical_name) + Optional((R('^(\\+|&|and)$') | cc) + (nmr_solvent | chemical_name)) + Optional(SkipTo(R('^([;:,\\.\\)]|at)$'))) + Optional(Optional(delim) + I('solvent').hide()))('solvent').add_action(join).add_action(fix_whitespace)\n",
    "\n",
    "temp_value = (Optional(R('^[~∼\\<\\>]$')) + Optional(R('^[\\-–−]$')) + R('^[\\+\\-–−]?\\d+(\\.\\d+)?$'))('value').add_action(merge)\n",
    "temp_word = (I('room') + R('^temp(erature)?$') | R('^r\\.?t\\.?$', re.I))('value').add_action(join)\n",
    "temp_units = (W('°') + R('[CFK]') | W('K'))('units').add_action(merge)\n",
    "temperature = Optional(I('at').hide()) + Group((temp_value + temp_units) | temp_word)('temperature')\n",
    "\n",
    "\n",
    "def fix_nmr_peak_whitespace_error(tokens, start, result):\n",
    "    \"\"\"\"\"\"\n",
    "    new_result = []\n",
    "    for e in result:\n",
    "        shift = e.find('shift')\n",
    "        if ',' in shift.text:\n",
    "            for peak_text in shift.text.split(','):\n",
    "                new_e = copy.deepcopy(e)\n",
    "                new_e.find('shift').text = peak_text\n",
    "                new_result.append(new_e)\n",
    "        else:\n",
    "            new_result.append(e)\n",
    "    return new_result\n",
    "\n",
    "\n",
    "def strip_delta(tokens, start, result):\n",
    "    \"\"\"\"\"\"\n",
    "    for e in result:\n",
    "        for child in e.iter():\n",
    "            if child.text.startswith('δ'):\n",
    "                child.text = child.text[1:]\n",
    "    return result\n",
    "\n",
    "shift_range = (Optional(R('^[\\-–−‒]$')) + (R('^δ?[\\+\\-–−‒]?\\d+(\\.+\\d+)?[\\-–−‒]\\d+(\\.+\\d+)?\\.?$') | (R('^[\\+\\-–−‒]?\\d+(\\.+\\d+)?$') + R('^[\\-–−‒]$') + R('^[\\+\\-–−‒]?\\d+(\\.+\\d+)?\\.?$'))))('shift').add_action(merge)\n",
    "shift_value = (Optional(R('^[\\-–−‒]$')) + R('^δ?[\\+\\-–−‒]?\\d+(\\.+\\d+)?\\.?$'))('shift').add_action(merge)\n",
    "shift_error = (Optional(R('^[\\-–−‒]$')) + R('^δ?[\\+\\-–−‒]?\\d+(\\.+\\d+)?,\\d+(\\.+\\d+)?\\.?$'))('shift').add_action(merge)\n",
    "shift = (shift_range | shift_value | shift_error).add_action(strip_stop).add_action(strip_delta)\n",
    "\n",
    "split = R('^(br?)?(s|S|d|D|t|T|q|Q|quint|sept|m|M|dd|ddd|dt|td|tt|br|bs|sb|h|ABq|broad|singlet|doublet|triplet|qua(rtet)?|quintet|septet|multiplet|multiple|peaks)$')\n",
    "multiplicity = (OneOrMore(split) + Optional(W('of') + split))('multiplicity').add_action(join)\n",
    "\n",
    "coupling_value = (number + ZeroOrMore(R('^[,;&]$') + number + Not(W('H'))))('value').add_action(join)\n",
    "coupling = ((R('^\\d?J([HCNPFD\\d,]*|cis|trans)$') + Optional(R('^[\\-–−‒]$') + R('^[HCNPF\\d]$')) + Optional('=')).hide() + coupling_value + Optional(W('Hz')('units')) + ZeroOrMore(R('^[,;&]$').hide() + coupling_value + W('Hz')('units')))('coupling')\n",
    "\n",
    "number = (R('^\\d+(\\.\\d+)?[HCNPF]\\.?$') | (R('^\\d+(\\.\\d+)?$') + R('^[HCNPF]\\.?$')))('number').add_action(merge)\n",
    "\n",
    "assignment_options = (OneOrMore(R('([CNHOPS\\-–−‒=]+\\d*[A-Za-z]?′*)+') | chemical_name | R('^(C?quat\\.?|Ac|Ar|Ph|linker|bridge)$')) + Optional(W('×') + R('^\\d+$')))('assignment').add_action(join)\n",
    "assignment = Optional(R('^\\d{1,2}$')('number') + Optional(W('×')).hide()) + (assignment_options + ZeroOrMore(T('CC').hide() + assignment_options))\n",
    "\n",
    "note = (W('overlapped') | (W('×') + R('^\\d+$')))('note').add_action(join)\n",
    "\n",
    "peak_meta_options = multiplicity | coupling | number | assignment | note\n",
    "peak_meta = W('(').hide() + peak_meta_options + ZeroOrMore(ZeroOrMore(delim) + peak_meta_options) + Optional(delim) + W(')').hide()\n",
    "\n",
    "delta = (R('^[δd][HCNPF]?$') + Optional(equals)).hide()\n",
    "ppm = Optional(R('^[(\\[]$')) + Optional(I('in')) + I('ppm') + Optional(R('^[)\\]]$'))\n",
    "\n",
    "spectrum_meta = Optional(W('(').hide()) + (frequency | solvent | delta | temperature) + ZeroOrMore(Optional(delim) + (frequency | solvent | I('ppm') | delta | temperature)) + Optional(temperature) + Optional(W(')').hide())\n",
    "\n",
    "prelude_options = spectrum_meta | delta | delim | ppm.hide() | equals.hide()\n",
    "prelude = ((nucleus + Optional(R('^[\\-–−‒]$')).hide() + nmr_name | nmr_name_with_nucleus) + ZeroOrMore(prelude_options)) | (R('^δ[HC]?$')('nucleus') + spectrum_meta + ZeroOrMore(prelude_options))\n",
    "\n",
    "peak = Optional(delta) + (shift + Not(R('^M?Hz$')) + Optional(ppm).hide() + Optional(peak_meta))('peak').add_action(fix_nmr_peak_whitespace_error)\n",
    "peaks = (peak + ZeroOrMore(ZeroOrMore(delim | W('and')).hide() + peak))('peaks')\n",
    "\n",
    "nmr = (prelude + peaks)('nmr')"
   ]
  },
  {
   "cell_type": "code",
   "execution_count": 15,
   "metadata": {},
   "outputs": [],
   "source": [
    "d = Document(\n",
    "    Paragraph(u'31P NMR (D2O, 121.5 MHz): δ −6.56 (d, 1P, JP,P = 21.9 Hz), −9.89 (d, 1P, JP,P = 21.9 Hz).')\n",
    ")"
   ]
  },
  {
   "cell_type": "code",
   "execution_count": 16,
   "metadata": {},
   "outputs": [
    {
     "data": {
      "text/plain": [
       "[{'names': ['31P']},\n",
       " {'names': ['D2O']},\n",
       " {'names': ['JP,P']},\n",
       " {'nmr_spectra': [{'nucleus': '31P',\n",
       "    'solvent': 'D2O',\n",
       "    'frequency': '121.5',\n",
       "    'frequency_units': 'MHz',\n",
       "    'peaks': [{'shift': '−6.56',\n",
       "      'multiplicity': 'd',\n",
       "      'coupling': '21.9',\n",
       "      'coupling_units': 'Hz',\n",
       "      'number': '1P'},\n",
       "     {'shift': '−9.89',\n",
       "      'multiplicity': 'd',\n",
       "      'coupling': '21.9',\n",
       "      'coupling_units': 'Hz',\n",
       "      'number': '1P'}]}]}]"
      ]
     },
     "execution_count": 16,
     "metadata": {},
     "output_type": "execute_result"
    }
   ],
   "source": [
    "d.records.serialize()"
   ]
  },
  {
   "cell_type": "code",
   "execution_count": 17,
   "metadata": {},
   "outputs": [],
   "source": [
    "e = Document(\n",
    "    Paragraph(u' The precipitated solids were filtered off and repeatedly washed with hot methanol \\\n",
    "              and then dried in a vacuum oven at 100 °C to give the pure organic \\\n",
    "              linker 5,5′-((3′,5′-dicarboxy-[1,1′-biphenyl]-3,5-dicarbonyl)bis(azanediyl))diisophthalic acid (H6DBDBD)\\\n",
    "              as a white solid (0.52 g, 77.8% yield)')\n",
    ")"
   ]
  },
  {
   "cell_type": "code",
   "execution_count": 18,
   "metadata": {},
   "outputs": [
    {
     "data": {
      "text/plain": [
       "[{'names': ['methanol']},\n",
       " {'names': ['5,5′-((3′,5′-dicarboxy-[1,1′-biphenyl]-3,5-dicarbonyl)bis(azanediyl))diisophthalic acid']}]"
      ]
     },
     "execution_count": 18,
     "metadata": {},
     "output_type": "execute_result"
    }
   ],
   "source": [
    "e.records.serialize()"
   ]
  },
  {
   "cell_type": "code",
   "execution_count": null,
   "metadata": {},
   "outputs": [],
   "source": []
  }
 ],
 "metadata": {
  "kernelspec": {
   "display_name": "Python 3",
   "language": "python",
   "name": "python3"
  },
  "language_info": {
   "codemirror_mode": {
    "name": "ipython",
    "version": 3
   },
   "file_extension": ".py",
   "mimetype": "text/x-python",
   "name": "python",
   "nbconvert_exporter": "python",
   "pygments_lexer": "ipython3",
   "version": "3.8.5"
  }
 },
 "nbformat": 4,
 "nbformat_minor": 4
}
