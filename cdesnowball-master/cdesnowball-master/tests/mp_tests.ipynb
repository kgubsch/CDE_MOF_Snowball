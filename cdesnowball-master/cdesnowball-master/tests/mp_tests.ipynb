{
 "cells": [
  {
   "cell_type": "code",
   "execution_count": 42,
   "metadata": {},
   "outputs": [],
   "source": [
    "from __future__ import absolute_import\n",
    "from __future__ import division\n",
    "from __future__ import print_function\n",
    "from __future__ import unicode_literals\n",
    "import logging\n",
    "import re\n",
    "\n",
    "#I removed the relative imports because they were not working for some reason\n",
    "from chemdataextractor.parse.cem import cem, chemical_label, lenient_chemical_label, solvent_name\n",
    "from chemdataextractor.parse.common import lbrct, dt, rbrct\n",
    "from chemdataextractor.utils import first\n",
    "from chemdataextractor.model import Compound\n",
    "from chemdataextractor.parse.actions import merge, join\n",
    "from chemdataextractor.parse.base import BaseParser\n",
    "from chemdataextractor.parse.elements import W, I, R, Optional, Any, OneOrMore, Not, ZeroOrMore"
   ]
  },
  {
   "cell_type": "code",
   "execution_count": 37,
   "metadata": {},
   "outputs": [],
   "source": [
    "prefix = Optional(I('a')).hide() + (Optional(lbrct) + W('Tm') + Optional(rbrct)| R('^m\\.?pt?\\.?$', re.I) | I('melting') + Optional((I('point') | I('temperature')| I('range'))) | R('^m\\.?$', re.I) + R('^pt?\\.?$', re.I)).hide() + Optional(lbrct + W('Tm') + rbrct) + Optional(W('=') | I('of') | I('was') | I('is') | I('at')).hide() + Optional(I('in') + I('the') + I('range') + Optional(I('of')) | I('about')).hide()\n",
    "\n",
    "delim = R('^[:;\\.,]$')\n",
    "\n",
    "# TODO: Consider allowing degree symbol to be optional. The prefix should be restrictive enough to stop false positives.\n",
    "units = (W('°') + Optional(R('^[CFK]\\.?$')) | W('K\\.?'))('units').add_action(merge)\n",
    "\n",
    "joined_range = R('^[\\+\\-–−]?\\d+(\\.\\d+)?[\\-–−~∼˜]\\d+(\\.\\d+)?$')('value').add_action(merge)\n",
    "spaced_range = (R('^[\\+\\-–−]?\\d+(\\.\\d+)?$') + Optional(units).hide() + (R('^[\\-–−~∼˜]$') + R('^[\\+\\-–−]?\\d+(\\.\\d+)?$') | R('^[\\+\\-–−]\\d+(\\.\\d+)?$')))('value').add_action(merge)\n",
    "to_range = (R('^[\\+\\-–−]?\\d+(\\.\\d+)?$') + Optional(units).hide() + (I('to') + R('^[\\+\\-–−]?\\d+(\\.\\d+)?$') | R('^[\\+\\-–−]\\d+(\\.\\d+)?$')))('value').add_action(join)\n",
    "temp_range = (Optional(R('^[\\-–−]$')) + (joined_range | spaced_range | to_range))('value').add_action(merge)\n",
    "temp_value = (Optional(R('^[~∼˜\\<\\>]$')) + Optional(R('^[\\-–−]$')) + R('^[\\+\\-–−]?\\d+(\\.\\d+)?$'))('value').add_action(merge)\n",
    "temp = Optional(lbrct).hide() + (temp_range | temp_value)('value') + Optional(rbrct).hide()\n",
    "\n",
    "mp = (prefix + Optional(delim).hide() + temp + units)('mp')\n",
    "\n",
    "\n",
    "bracket_any = lbrct + OneOrMore(Not(mp) + Not(rbrct) + Any()) + rbrct\n",
    "\n",
    "solvent_phrase = (R('^(re)?crystalli[sz](ation|ed)$', re.I) + (I('with') | I('from')) + cem | solvent_name)\n",
    "cem_mp_phrase = (Optional(solvent_phrase).hide() + Optional(cem) + Optional(I('having')).hide() + Optional(delim).hide() + Optional(bracket_any).hide() + Optional(delim).hide() + Optional(lbrct) + mp + Optional(rbrct))('mp_phrase')\n",
    "to_give_mp_phrase = ((I('to') + (I('give') | I('afford') | I('yield') | I('obtain')) | I('affording') | I('afforded') | I('gave') | I('yielded')).hide() + Optional(dt).hide() + (cem | chemical_label | lenient_chemical_label) + ZeroOrMore(Not(mp) + Not(cem) + Any()).hide() + mp)('mp_phrase')\n",
    "obtained_mp_phrase = ((cem | chemical_label) + (I('is') | I('are') | I('was')).hide() + (I('afforded') | I('obtained') | I('yielded')).hide() + ZeroOrMore(Not(mp) + Not(cem) + Any()).hide() + mp)('mp_phrase')\n",
    "\n",
    "mp_phrase = cem_mp_phrase | to_give_mp_phrase | obtained_mp_phrase"
   ]
  },
  {
   "cell_type": "code",
   "execution_count": 38,
   "metadata": {},
   "outputs": [],
   "source": [
    "from chemdataextractor.doc.text import Sentence, Paragraph\n",
    "\n",
    "class MpParser(BaseParser):\n",
    "    \"\"\"\"\"\"\n",
    "    root = mp_phrase\n",
    "\n",
    "    def interpret(self, result, start, end):\n",
    "        compound = Compound(\n",
    "            melting_points=[\n",
    "                MeltingPoint(\n",
    "                    value=first(result.xpath('./mp/value/text()')),\n",
    "                    units=first(result.xpath('./mp/units/text()'))\n",
    "                )\n",
    "            ]\n",
    "        )\n",
    "        cem_el = first(result.xpath('./cem'))\n",
    "        if cem_el is not None:\n",
    "            compound.names = cem_el.xpath('./name/text()')\n",
    "            compound.labels = cem_el.xpath('./label/text()')\n",
    "        yield compound"
   ]
  },
  {
   "cell_type": "code",
   "execution_count": 39,
   "metadata": {},
   "outputs": [],
   "source": [
    "from chemdataextractor import Document\n",
    "from chemdataextractor.doc.text import Sentence, Paragraph\n",
    "\n",
    "d = Document(\n",
    "    Paragraph(u'bissulfonic acid afforded CO2 (102 mg, 41%) as a green solid m.p.>300° C.')\n",
    ")"
   ]
  },
  {
   "cell_type": "code",
   "execution_count": 40,
   "metadata": {},
   "outputs": [
    {
     "data": {
      "text/html": [
       "<div class=\"cde-document\">\n",
       "<p class=\"cde-paragraph\">bissulfonic acid afforded CO2 (102 mg, 41%) as a green solid m.p.>300° C.</p>\n",
       "</div>"
      ],
      "text/plain": [
       "<Document: 1 elements>"
      ]
     },
     "execution_count": 40,
     "metadata": {},
     "output_type": "execute_result"
    }
   ],
   "source": [
    "d"
   ]
  },
  {
   "cell_type": "code",
   "execution_count": 41,
   "metadata": {},
   "outputs": [
    {
     "data": {
      "text/plain": [
       "[{'names': ['bissulfonic acid']},\n",
       " {'names': ['CO2'],\n",
       "  'roles': ['product'],\n",
       "  'melting_points': [{'value': '>300', 'units': '°C'}]}]"
      ]
     },
     "execution_count": 41,
     "metadata": {},
     "output_type": "execute_result"
    }
   ],
   "source": [
    "d.records.serialize()"
   ]
  },
  {
   "cell_type": "code",
   "execution_count": null,
   "metadata": {},
   "outputs": [],
   "source": []
  }
 ],
 "metadata": {
  "kernelspec": {
   "display_name": "Python 3",
   "language": "python",
   "name": "python3"
  },
  "language_info": {
   "codemirror_mode": {
    "name": "ipython",
    "version": 3
   },
   "file_extension": ".py",
   "mimetype": "text/x-python",
   "name": "python",
   "nbconvert_exporter": "python",
   "pygments_lexer": "ipython3",
   "version": "3.7.6"
  }
 },
 "nbformat": 4,
 "nbformat_minor": 4
}
