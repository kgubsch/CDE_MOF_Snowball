{
 "cells": [
  {
   "cell_type": "code",
   "execution_count": 217,
   "metadata": {},
   "outputs": [],
   "source": [
    "from __future__ import absolute_import\n",
    "from __future__ import division\n",
    "from __future__ import print_function\n",
    "from __future__ import unicode_literals\n",
    "import logging\n",
    "import re\n",
    "\n",
    "from chemdataextractor import Document\n",
    "from chemdataextractor.model import Compound\n",
    "from chemdataextractor.doc import Paragraph, Heading\n",
    "\n",
    "from chemdataextractor.parse.cem import cem, chemical_label, lenient_chemical_label, solvent_name\n",
    "from chemdataextractor.parse.common import lbrct, dt, rbrct\n",
    "from chemdataextractor.utils import first\n",
    "from chemdataextractor.model import Compound\n",
    "from chemdataextractor.parse.actions import merge, join\n",
    "from chemdataextractor.parse.base import BaseParser\n",
    "from chemdataextractor.parse.elements import W, I, R, Optional, Any, OneOrMore, Not, ZeroOrMore"
   ]
  },
  {
   "cell_type": "code",
   "execution_count": 218,
   "metadata": {},
   "outputs": [],
   "source": [
    "d = Document(\n",
    "    Paragraph(u'adsorption enthalpy of Co2 240 JMOL-1') \n",
    "    \n",
    ")"
   ]
  },
  {
   "cell_type": "code",
   "execution_count": 219,
   "metadata": {},
   "outputs": [
    {
     "data": {
      "text/html": [
       "<div class=\"cde-document\">\n",
       "<p class=\"cde-paragraph\">adsorption enthalpy of Co2 240 JMOL-1</p>\n",
       "</div>"
      ],
      "text/plain": [
       "<Document: 1 elements>"
      ]
     },
     "execution_count": 219,
     "metadata": {},
     "output_type": "execute_result"
    }
   ],
   "source": [
    "d"
   ]
  },
  {
   "cell_type": "code",
   "execution_count": 220,
   "metadata": {},
   "outputs": [
    {
     "data": {
      "text/plain": [
       "[]"
      ]
     },
     "execution_count": 220,
     "metadata": {},
     "output_type": "execute_result"
    }
   ],
   "source": [
    "d.records.serialize()\n"
   ]
  },
  {
   "cell_type": "code",
   "execution_count": 221,
   "metadata": {},
   "outputs": [],
   "source": [
    "from chemdataextractor.model import BaseModel, StringType, ListType, ModelType\n",
    "\n",
    "class AdsorptionEnthalpy(BaseModel):\n",
    "    prefix= StringType()\n",
    "    value = StringType()\n",
    "    units = StringType()\n",
    "    adsorbate = StringType(contextual=True)\n",
    "    adsorbent = StringType(contextual=True)\n",
    "    temperature = StringType(contextual=True)\n",
    "    temperature_units = StringType(contextual=True)\n",
    "Compound.adsorption_enthalpies = ListType(ModelType(AdsorptionEnthalpy))"
   ]
  },
  {
   "cell_type": "code",
   "execution_count": 222,
   "metadata": {},
   "outputs": [],
   "source": [
    " #add allowances for whitespace, sentence order, /, . or space between derived unit components, absorbate , heat, enthalpy/heat of\n",
    "    #ΔHr is too general, can it be parsed as a label? might be inferred sometimes, can't have so many optionals? more flexibility in units and symbols, test on real papers, have cem recogniseable from heading or from text\n",
    "#add ads or adsorption subscript\n",
    "#add contextual parsers- test if T orks, aso need adsorbate and P\n",
    "#make MOF recogniseable in para\n",
    "#need to allow for 'enthalpy of co2 adsorption'\n",
    "import re\n",
    "from chemdataextractor.parse.cem import cem, chemical_label, lenient_chemical_label, solvent_name\n",
    "from chemdataextractor.parse import R, I, W, Optional, merge\n",
    "import enum\n",
    "import sre_compile\n",
    "import sre_parse\n",
    "import functools\n",
    "\n",
    "delim = R('^[,:;\\.\\[\\]\\(\\)\\{\\}/]$').hide()\n",
    "delim = R('^[;:,\\./]$').hide()\n",
    "#prefix = ((W(u'ΔHr')) |Optional(I(u'heat')|I(u'enthalpy') + I(u'of')) + Optional( I(u'adsorption') + I(u'heat')|I(u'enthalpy'))).hide()\n",
    "#this prefix works for most but needs to be more restirctuive\n",
    "#prefix = ((W(u'ΔHr')) |(I(u'heat')|I(u'enthalpy') + I(u'of') +  I(u'adsorption')) |(I(u'adsorption') + I(u'heat')|I(u'enthalpy'))).hide()\n",
    "#trying to copy mp prefix = (Optional(I('a')).hide() + (Optional(lbrct) + W(u'ΔHr') + Optional(rbrct))|  ((I('enthalpy') | I('heat')+I('of') +I('adsorption') | (I('adsorption') + (I('enthalpy') | I('heat')| I('range')))).hide() + Optional(lbrct + W('Tm') + rbrct) + Optional(W('=') | I('of') | I('was') | I('is') | I('at')).hide() + Optional(I('in') + I('the') + I('range') + Optional(I('of')) | I('about')).hide()\n",
    "#this prefix works but needs to be less restrictive wrt of/for at end and cems\n",
    "#(cem | chemical_label | lenient_chemical_label)\n",
    "##prefix = (((W(u'ΔHr')) |(I(u'heat')|I(u'enthalpy') + I(u'of') +  I(u'adsorption')) |(I(u'adsorption') + I(u'heat')|I(u'enthalpy')))).hide()\n",
    "#this one doesn't parse heat of adsorption\n",
    "#prefix = (((W(u'ΔHr')) |(I(u'heat')|I(u'enthalpy') + I(u'of') +  W(u'adsorption')))).hide()#this matches with just heat\n",
    "symbol_prefix = (Optional(cem) +W(u'ΔHads')+Optional(I('of')) ).hide()#this matches with just heat\n",
    "of_prefix = Optional(cem) +(I(u'heat')|I(u'enthalpy')) + I(u'of') + Optional(cem) + I(u'adsorption') + Optional(I('of')) \n",
    "standard_prefix = Optional(cem) + I(u'adsorption') + (I(u'heat')|I(u'enthalpy')) \n",
    "standard_prefix_of = standard_prefix + Optional(I('of')|I(u'for')) \n",
    "prefix_cem_after = symbol_prefix|of_prefix|standard_prefix_of + Optional(cem)\n",
    "prefix_cem_before = Optional(cem)+ symbol_prefix|of_prefix|standard_prefix_of \n",
    "prefix = (prefix_cem_after|prefix_cem_before)\n",
    "prefix_of= prefix + Optional(I('of')) +  Optional(I('was')) \n",
    "#this combined prefix matches all of them without instances of cems\n",
    "unit_spaces = ((I('kj') +Optional(I(u'/'))+ I('mol-1'))|(I('j') +Optional(I(u'/'))+ I('mol-1')))(u'units').add_action(merge)\n",
    "unit_nospaces = (Optional(I(u'k'))+I(u'jmol-1')|I(u'kjmol-1'))(u'units').add_action(merge)\n",
    "unit_slashes = ((I('kj') +(I(u'/'))+ I('mol'))|(I('j') +(I(u'/'))+ I('mol')))(u'units').add_action(merge)\n",
    "units = unit_spaces|unit_nospaces|unit_slashes\n",
    "#units = (I(u'kj') + I('mol-1'))(u'units').add_action(merge)\n",
    "value = R(u'^\\d+(\\.\\d+)?$')(u'value')\n",
    "ads_nodescriptor = (Optional(cem)+(prefix_of|prefix)+ Optional(I('of')|I(u'for'))+Optional(cem)+ Optional(I('of'))+ Optional(I('was')) + Optional(lbrct).hide() + value + units+ Optional(rbrct).hide())(u'ads')\n",
    "ads_descriptor = ads_nodescriptor + ZeroOrMore(Not(ads_nodescriptor) + Not(cem) +Any())+cem\n",
    "ads = (ads_nodescriptor|ads_descriptor)(u'ads')"
   ]
  },
  {
   "cell_type": "code",
   "execution_count": 223,
   "metadata": {},
   "outputs": [],
   "source": [
    "#chemisorption/physisorption\n",
    "#(ad/de)sorption?\n",
    "#- some papers differentiate between componenets of overall adsorption enthalpy,\n",
    "#but this may be too complex to add\n",
    "#the adsorbate may be a componenet of the unit e.g. KJ/kmol CO2"
   ]
  },
  {
   "cell_type": "code",
   "execution_count": 224,
   "metadata": {},
   "outputs": [],
   "source": [
    "from chemdataextractor.parse.base import BaseParser\n",
    "from chemdataextractor.utils import first\n",
    "\n",
    "class AdsParser(BaseParser):\n",
    "    root = ads\n",
    "\n",
    "    def interpret(self, result, start, end):\n",
    "        compound = Compound(\n",
    "            adsorption_enthalpies=[\n",
    "                AdsorptionEnthalpy(\n",
    "                    value=first(result.xpath('./value/text()')),\n",
    "                    units=first(result.xpath('./units/text()'))\n",
    "                )\n",
    "            ]\n",
    "        )\n",
    "        cem_el = first(result.xpath('./cem'))\n",
    "        if cem_el is not None:\n",
    "            compound.names = cem_el.xpath('./name/text()')\n",
    "            compound.labels = cem_el.xpath('./label/text()')\n",
    "        yield compound"
   ]
  },
  {
   "cell_type": "code",
   "execution_count": 225,
   "metadata": {},
   "outputs": [],
   "source": [
    "Paragraph.parsers = [AdsParser()]"
   ]
  },
  {
   "cell_type": "code",
   "execution_count": 226,
   "metadata": {
    "scrolled": true
   },
   "outputs": [
    {
     "data": {
      "text/plain": [
       "[{'names': ['MOF-5'],\n",
       "  'labels': ['3a'],\n",
       "  'roles': ['product'],\n",
       "  'adsorption_enthalpies': [{'value': '240', 'units': 'KJMOL-1'}]}]"
      ]
     },
     "execution_count": 226,
     "metadata": {},
     "output_type": "execute_result"
    }
   ],
   "source": [
    "d = Document(\n",
    "    Heading(u'Synthesis of MOF-5 (3a)'),\n",
    "    Paragraph(u'The procedure was followed to yield a pale yellow solid (adsorption enthalpy was 240 KJMOL-1)')\n",
    ")\n",
    "\n",
    "d.records.serialize()"
   ]
  },
  {
   "cell_type": "code",
   "execution_count": 227,
   "metadata": {},
   "outputs": [
    {
     "data": {
      "text/plain": [
       "[{'names': ['CD-MOF-2'],\n",
       "  'labels': ['3a'],\n",
       "  'roles': ['product'],\n",
       "  'adsorption_enthalpies': [{'value': '240', 'units': 'kJMOL-1'}]}]"
      ]
     },
     "execution_count": 227,
     "metadata": {},
     "output_type": "execute_result"
    }
   ],
   "source": [
    "e = Document(\n",
    "    Heading(u'Synthesis of CD-MOF-2 (3a)'),\n",
    "    Paragraph(u' ΔHads was 240 kJMOL-1')\n",
    ")\n",
    "e.records.serialize()"
   ]
  },
  {
   "cell_type": "code",
   "execution_count": 228,
   "metadata": {},
   "outputs": [
    {
     "data": {
      "text/plain": [
       "[{'names': ['CD-MOF-2'], 'labels': ['3a'], 'roles': ['product']},\n",
       " {'names': ['H2'],\n",
       "  'adsorption_enthalpies': [{'value': '240', 'units': 'J/MOL'}]}]"
      ]
     },
     "execution_count": 228,
     "metadata": {},
     "output_type": "execute_result"
    }
   ],
   "source": [
    "e = Document(\n",
    "    Heading(u'Synthesis of CD-MOF-2 (3a)'),\n",
    "    Paragraph(u'H2 ΔHads was 240 J/MOL')\n",
    ")\n",
    "e.records.serialize()"
   ]
  },
  {
   "cell_type": "code",
   "execution_count": 229,
   "metadata": {},
   "outputs": [
    {
     "data": {
      "text/plain": [
       "[{'names': ['CD-MOF-2'], 'labels': ['3a'], 'roles': ['product']},\n",
       " {'names': ['carbon dioxide'],\n",
       "  'adsorption_enthalpies': [{'value': '240', 'units': 'kJ/MOL'}]}]"
      ]
     },
     "execution_count": 229,
     "metadata": {},
     "output_type": "execute_result"
    }
   ],
   "source": [
    "e = Document(\n",
    "    Heading(u'Synthesis of CD-MOF-2 (3a)'),\n",
    "    Paragraph(u'carbon dioxide ΔHads was (240 kJ/ MOL)')\n",
    ")\n",
    "e.records.serialize()"
   ]
  },
  {
   "cell_type": "code",
   "execution_count": 230,
   "metadata": {},
   "outputs": [
    {
     "data": {
      "text/plain": [
       "[{'names': ['CD-MOF-2'], 'labels': ['3a'], 'roles': ['product']},\n",
       " {'names': ['methanol'],\n",
       "  'adsorption_enthalpies': [{'value': '240', 'units': 'kJMOL-1'}]}]"
      ]
     },
     "execution_count": 230,
     "metadata": {},
     "output_type": "execute_result"
    }
   ],
   "source": [
    "g = Document(\n",
    "    Heading(u'Synthesis of CD-MOF-2 (3a)'),\n",
    "    Paragraph(u' methanol heat of adsorption was 240 kJ MOL-1')\n",
    ")\n",
    "g.records.serialize()"
   ]
  },
  {
   "cell_type": "code",
   "execution_count": 231,
   "metadata": {},
   "outputs": [
    {
     "data": {
      "text/plain": [
       "[{'names': ['CD-MOF-2'],\n",
       "  'labels': ['3a'],\n",
       "  'roles': ['product'],\n",
       "  'adsorption_enthalpies': [{'value': '240', 'units': 'JMOL-1'}]}]"
      ]
     },
     "execution_count": 231,
     "metadata": {},
     "output_type": "execute_result"
    }
   ],
   "source": [
    "g = Document(\n",
    "    Heading(u'Synthesis of CD-MOF-2 (3a)'),\n",
    "    Paragraph(u' heat of adsorption of 240 JMOL-1')\n",
    ")\n",
    "g.records.serialize()"
   ]
  },
  {
   "cell_type": "code",
   "execution_count": 232,
   "metadata": {},
   "outputs": [
    {
     "data": {
      "text/plain": [
       "[{'adsorption_enthalpies': [{'value': '240', 'units': 'JMOL-1'}]}]"
      ]
     },
     "execution_count": 232,
     "metadata": {},
     "output_type": "execute_result"
    }
   ],
   "source": [
    "i = Document(\n",
    "    Paragraph(u'adsorption heat was 240 JMOL-1')\n",
    ")\n",
    "i.records.serialize()"
   ]
  },
  {
   "cell_type": "code",
   "execution_count": 233,
   "metadata": {},
   "outputs": [
    {
     "data": {
      "text/plain": [
       "[{'names': ['CD-MOF-2'], 'labels': ['3a'], 'roles': ['product']},\n",
       " {'names': ['methanol'],\n",
       "  'adsorption_enthalpies': [{'value': '240', 'units': 'JMOL-1'}]}]"
      ]
     },
     "execution_count": 233,
     "metadata": {},
     "output_type": "execute_result"
    }
   ],
   "source": [
    "i = Document(\n",
    "    Heading(u'Synthesis of CD-MOF-2 (3a)'),\n",
    "    Paragraph(u'CD-MOF-2 adsorption heat for methanol of 240 JMOL-1')\n",
    ")\n",
    "i.records.serialize()"
   ]
  },
  {
   "cell_type": "code",
   "execution_count": 234,
   "metadata": {},
   "outputs": [
    {
     "data": {
      "text/plain": [
       "[{'names': ['CD-MOF-2'], 'labels': ['3a'], 'roles': ['product']},\n",
       " {'names': ['methanol'],\n",
       "  'adsorption_enthalpies': [{'value': '240', 'units': 'JMOL-1'}]}]"
      ]
     },
     "execution_count": 234,
     "metadata": {},
     "output_type": "execute_result"
    }
   ],
   "source": [
    "i = Document(\n",
    "    Heading(u'Synthesis of CD-MOF-2 (3a)'),\n",
    "    Paragraph(u'adsorption heat for methanol was 240 JMOL-1')\n",
    ")\n",
    "i.records.serialize()"
   ]
  },
  {
   "cell_type": "code",
   "execution_count": 235,
   "metadata": {},
   "outputs": [
    {
     "data": {
      "text/plain": [
       "[{'names': ['CD-MOF-2'], 'labels': ['3a'], 'roles': ['product']},\n",
       " {'names': ['methanol'],\n",
       "  'adsorption_enthalpies': [{'value': '240', 'units': 'KJMOL-1'}]}]"
      ]
     },
     "execution_count": 235,
     "metadata": {},
     "output_type": "execute_result"
    }
   ],
   "source": [
    "i = Document(\n",
    "    Heading(u'Synthesis of CD-MOF-2 (3a)'),\n",
    "    Paragraph(u'methanol heat of adsorption of 240 KJMOL-1')\n",
    ")\n",
    "i.records.serialize()"
   ]
  },
  {
   "cell_type": "code",
   "execution_count": 236,
   "metadata": {},
   "outputs": [
    {
     "data": {
      "text/plain": [
       "[{'names': ['CD-MOF-2'], 'labels': ['3a'], 'roles': ['product']},\n",
       " {'names': ['methanol'],\n",
       "  'adsorption_enthalpies': [{'value': '240', 'units': 'KJMOL-1'}]}]"
      ]
     },
     "execution_count": 236,
     "metadata": {},
     "output_type": "execute_result"
    }
   ],
   "source": [
    "i = Document(\n",
    "    Heading(u'Synthesis of CD-MOF-2 (3a)'),\n",
    "    Paragraph(u'heat of adsorption of methanol of 240 KJMOL-1')\n",
    ")\n",
    "i.records.serialize()"
   ]
  },
  {
   "cell_type": "code",
   "execution_count": 237,
   "metadata": {},
   "outputs": [
    {
     "data": {
      "text/plain": [
       "[{'names': ['CD-MOF-2'], 'labels': ['3a'], 'roles': ['product']},\n",
       " {'names': ['methanol'],\n",
       "  'adsorption_enthalpies': [{'value': '240', 'units': 'KJMOL-1'}]}]"
      ]
     },
     "execution_count": 237,
     "metadata": {},
     "output_type": "execute_result"
    }
   ],
   "source": [
    "i = Document(\n",
    "    Heading(u'Synthesis of CD-MOF-2 (3a)'),\n",
    "    Paragraph(u'heat of adsorption for methanol of 240 KJMOL-1')\n",
    ")\n",
    "i.records.serialize()"
   ]
  },
  {
   "cell_type": "code",
   "execution_count": 238,
   "metadata": {},
   "outputs": [
    {
     "data": {
      "text/plain": [
       "[{'names': ['CD-MOF-2'], 'labels': ['3a'], 'roles': ['product']},\n",
       " {'names': ['methanol'],\n",
       "  'adsorption_enthalpies': [{'value': '240', 'units': 'KJMOL-1'}]}]"
      ]
     },
     "execution_count": 238,
     "metadata": {},
     "output_type": "execute_result"
    }
   ],
   "source": [
    "i = Document(\n",
    "    Heading(u'Synthesis of CD-MOF-2 (3a)'),\n",
    "    Paragraph(u'heat of methanol adsorption 240 KJMOL-1')\n",
    ")\n",
    "i.records.serialize()"
   ]
  },
  {
   "cell_type": "code",
   "execution_count": 239,
   "metadata": {},
   "outputs": [
    {
     "data": {
      "text/plain": [
       "[{'names': ['CD-MOF-2'], 'labels': ['3a'], 'roles': ['product']},\n",
       " {'names': ['methanol'],\n",
       "  'adsorption_enthalpies': [{'value': '240', 'units': 'JMOL-1'}]}]"
      ]
     },
     "execution_count": 239,
     "metadata": {},
     "output_type": "execute_result"
    }
   ],
   "source": [
    "h = Document(\n",
    "    Heading(u'Synthesis of CD-MOF-2 (3a)'),\n",
    "    Paragraph(u'methanol adsorption heat 240 JMOL-1')\n",
    ")\n",
    "h.records.serialize()"
   ]
  },
  {
   "cell_type": "code",
   "execution_count": 240,
   "metadata": {},
   "outputs": [
    {
     "data": {
      "text/plain": [
       "[{'names': ['CD-MOF-2'], 'labels': ['3a'], 'roles': ['product']},\n",
       " {'names': ['Co2'],\n",
       "  'adsorption_enthalpies': [{'value': '240', 'units': 'KJMOL-1'}]}]"
      ]
     },
     "execution_count": 240,
     "metadata": {},
     "output_type": "execute_result"
    }
   ],
   "source": [
    "i = Document(\n",
    "    Heading(u'Synthesis of CD-MOF-2 (3a)'),\n",
    "    Paragraph(u'heat of Co2 adsorption 240 KJMOL-1')\n",
    ")\n",
    "i.records.serialize()"
   ]
  },
  {
   "cell_type": "code",
   "execution_count": 241,
   "metadata": {},
   "outputs": [
    {
     "data": {
      "text/plain": [
       "[{'names': ['CD-MOF-2'], 'labels': ['3a'], 'roles': ['product']}]"
      ]
     },
     "execution_count": 241,
     "metadata": {},
     "output_type": "execute_result"
    }
   ],
   "source": [
    "i = Document(\n",
    "    Heading(u'Synthesis of CD-MOF-2 (3a)'),\n",
    "    Paragraph(u'heat of co2 adsorption 240 KJMOL-1')\n",
    ")\n",
    "i.records.serialize()\n",
    "#NB only parsed if co2 is capitalised, can you make cem case insensitive?"
   ]
  },
  {
   "cell_type": "code",
   "execution_count": 242,
   "metadata": {},
   "outputs": [
    {
     "data": {
      "text/plain": [
       "[]"
      ]
     },
     "execution_count": 242,
     "metadata": {},
     "output_type": "execute_result"
    }
   ],
   "source": [
    "i = Document(\n",
    "    Paragraph(u'heat of MOF-5 adsorption 240 KJMOL-1')\n",
    ")\n",
    "i.records.serialize()\n",
    "#it doesn't parse the MOF name in the paragraph \n",
    "#- although the MOF shouldn't be in this position as an adsorbate, \n",
    "#it will need to recognise it as a CEM for the parser to recognise absorbents and adsorbates, \n",
    "#we may have to add MOFs to the list of cems or train the CRF chemical entity recogniser"
   ]
  },
  {
   "cell_type": "code",
   "execution_count": 243,
   "metadata": {},
   "outputs": [
    {
     "data": {
      "text/plain": [
       "[{'names': ['CD-MOF-2'], 'labels': ['3a'], 'roles': ['product']}]"
      ]
     },
     "execution_count": 243,
     "metadata": {},
     "output_type": "execute_result"
    }
   ],
   "source": [
    "i = Document(\n",
    "    Heading(u'Synthesis of CD-MOF-2 (3a)'),\n",
    "    Paragraph(u'heat of water adsorption 240 KJMOL-1')\n",
    ")\n",
    "i.records.serialize()\n",
    "#it doesn't recognise water as a CEM, \n",
    "#some papers investigate MOF adsorption of water, so this needs to be resolved"
   ]
  },
  {
   "cell_type": "code",
   "execution_count": 213,
   "metadata": {},
   "outputs": [
    {
     "data": {
      "text/plain": [
       "[{'names': ['CD-MOF-2'], 'labels': ['3a'], 'roles': ['product']}]"
      ]
     },
     "execution_count": 213,
     "metadata": {},
     "output_type": "execute_result"
    }
   ],
   "source": [
    "i = Document(\n",
    "    Heading(u'Synthesis of CD-MOF-2 (3a)'),\n",
    "    Paragraph(u'enthalpy  240 KJMOL-1')\n",
    ")\n",
    "i.records.serialize()\n",
    "#this is a test that shouldn't return a value to make sure parser isn't too lenient"
   ]
  },
  {
   "cell_type": "code",
   "execution_count": 214,
   "metadata": {},
   "outputs": [
    {
     "data": {
      "text/plain": [
       "[{'names': ['CD-MOF-2'], 'labels': ['3a'], 'roles': ['product']}]"
      ]
     },
     "execution_count": 214,
     "metadata": {},
     "output_type": "execute_result"
    }
   ],
   "source": [
    "i = Document(\n",
    "    Heading(u'Synthesis of CD-MOF-2 (3a)'),\n",
    "    Paragraph(u'heat of methanol 240 KJMOL-1')\n",
    ")\n",
    "i.records.serialize()\n",
    "#this is a test that shouldn't return a value to make sure parser isn't too lenient"
   ]
  },
  {
   "cell_type": "code",
   "execution_count": 200,
   "metadata": {},
   "outputs": [
    {
     "data": {
      "text/plain": [
       "[{'names': ['CD-MOF-2'], 'labels': ['3a'], 'roles': ['product']}]"
      ]
     },
     "execution_count": 200,
     "metadata": {},
     "output_type": "execute_result"
    }
   ],
   "source": [
    "i = Document(\n",
    "    Heading(u'Synthesis of CD-MOF-2 (3a)'),\n",
    "    Paragraph(u'ΔHr for methanol of 240 JMOL-1')\n",
    ")\n",
    "i.records.serialize()\n",
    "#this is a test that shouldn't return a value to make sure parser isn't too lenient\n",
    "#sometimes ΔHr or #sometimes Δh are contextually of adsorption, need to add this somehow, could search for nearby instances of types of enthalpy descriptors, or the one nearest the first? most likely nearest to that instance\n",
    "#could maybe use this? https://www.regular-expressions.info/near.html"
   ]
  },
  {
   "cell_type": "code",
   "execution_count": 215,
   "metadata": {},
   "outputs": [
    {
     "data": {
      "text/plain": [
       "[{'names': ['CD-MOF-2'], 'labels': ['3a'], 'roles': ['product']}]"
      ]
     },
     "execution_count": 215,
     "metadata": {},
     "output_type": "execute_result"
    }
   ],
   "source": [
    "i = Document(\n",
    "    Heading(u'Synthesis of CD-MOF-2 (3a)'),\n",
    "    Paragraph(u'adsorption 240 KJMOL-1')\n",
    ")\n",
    "i.records.serialize()\n",
    "#this is a test that shouldn't return a value to make sure parser isn't too lenient"
   ]
  },
  {
   "cell_type": "code",
   "execution_count": 216,
   "metadata": {},
   "outputs": [
    {
     "data": {
      "text/plain": [
       "[{'names': ['CD-MOF-2'], 'labels': ['3a'], 'roles': ['product']}]"
      ]
     },
     "execution_count": 216,
     "metadata": {},
     "output_type": "execute_result"
    }
   ],
   "source": [
    "i = Document(\n",
    "    Heading(u'Synthesis of CD-MOF-2 (3a)'),\n",
    "    Paragraph(u'heat of adsorption of methanol of 240 KJMOL')\n",
    ")\n",
    "i.records.serialize()"
   ]
  },
  {
   "cell_type": "code",
   "execution_count": null,
   "metadata": {},
   "outputs": [],
   "source": []
  }
 ],
 "metadata": {
  "kernelspec": {
   "display_name": "Python 3",
   "language": "python",
   "name": "python3"
  },
  "language_info": {
   "codemirror_mode": {
    "name": "ipython",
    "version": 3
   },
   "file_extension": ".py",
   "mimetype": "text/x-python",
   "name": "python",
   "nbconvert_exporter": "python",
   "pygments_lexer": "ipython3",
   "version": "3.8.5"
  }
 },
 "nbformat": 4,
 "nbformat_minor": 4
}
