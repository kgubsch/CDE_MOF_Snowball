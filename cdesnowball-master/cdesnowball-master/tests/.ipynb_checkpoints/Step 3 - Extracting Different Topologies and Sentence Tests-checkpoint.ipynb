{
 "cells": [
  {
   "cell_type": "code",
   "execution_count": 97,
   "metadata": {},
   "outputs": [],
   "source": [
    "from __future__ import absolute_import\n",
    "from __future__ import division\n",
    "from __future__ import print_function\n",
    "from __future__ import unicode_literals\n",
    "import logging\n",
    "import re\n",
    "\n",
    "from chemdataextractor import Document\n",
    "from chemdataextractor.model import Compound\n",
    "from chemdataextractor.doc import Paragraph, Heading\n",
    "\n",
    "from chemdataextractor.parse.cem import cem, chemical_label, lenient_chemical_label, solvent_name\n",
    "from chemdataextractor.parse.common import lbrct, dt, rbrct\n",
    "from chemdataextractor.utils import first\n",
    "from chemdataextractor.model import Compound\n",
    "from chemdataextractor.parse.actions import merge, join\n",
    "from chemdataextractor.parse.base import BaseParser\n",
    "from chemdataextractor.parse.elements import W, I, R, Optional, Any, OneOrMore, Not, ZeroOrMore"
   ]
  },
  {
   "cell_type": "code",
   "execution_count": 98,
   "metadata": {},
   "outputs": [],
   "source": [
    "d = Document(\n",
    "    Paragraph(u'Another exciting example is found in the application of an organosulfonate-based MOF, TMOF-3, with a defective pcu topology')\n",
    ")"
   ]
  },
  {
   "cell_type": "code",
   "execution_count": 99,
   "metadata": {},
   "outputs": [],
   "source": [
    "c = Document(\n",
    "    Paragraph(u'On further milling, the kat-phase further rearranges into the dense diamondoid (dia) topology polymorph of ZIF-8.')\n",
    ")"
   ]
  },
  {
   "cell_type": "code",
   "execution_count": 100,
   "metadata": {},
   "outputs": [],
   "source": [
    "e = Document(\n",
    "    Paragraph(u'Although ZIF-8 of tbo topology is quite different from MOF-5 of pcu topology, HKUST-1 could be considered as a net of pcu underlying topology.'),\n",
    ")\n",
    "#for some reason CDE doesn't even recognize the chemical name in this sentence"
   ]
  },
  {
   "cell_type": "code",
   "execution_count": 101,
   "metadata": {},
   "outputs": [
    {
     "data": {
      "text/plain": [
       "[]"
      ]
     },
     "execution_count": 101,
     "metadata": {},
     "output_type": "execute_result"
    }
   ],
   "source": [
    "e.records.serialize()"
   ]
  },
  {
   "cell_type": "code",
   "execution_count": 102,
   "metadata": {},
   "outputs": [
    {
     "data": {
      "text/plain": [
       "[{'names': ['diamondoid', 'dia'], 'topologies': [{'abrv': 'dia'}]}]"
      ]
     },
     "execution_count": 102,
     "metadata": {},
     "output_type": "execute_result"
    }
   ],
   "source": [
    "c.records.serialize()"
   ]
  },
  {
   "cell_type": "code",
   "execution_count": 103,
   "metadata": {},
   "outputs": [
    {
     "data": {
      "text/plain": [
       "[{'names': ['TMOF-3'], 'topologies': [{'abrv': 'pcu'}]}]"
      ]
     },
     "execution_count": 103,
     "metadata": {},
     "output_type": "execute_result"
    }
   ],
   "source": [
    "d.records.serialize()"
   ]
  },
  {
   "cell_type": "code",
   "execution_count": 104,
   "metadata": {},
   "outputs": [],
   "source": [
    "from chemdataextractor.model import BaseModel, StringType, ListType, ModelType\n",
    "\n",
    "#Topology class is created with the BaseModel class as an argument\n",
    "class Topology(BaseModel):\n",
    "    full = StringType() \n",
    "    abrv = StringType(contextual = True)\n",
    "    #adding contextual = True puts it in the dictionary but then it's in every dictionary\n",
    "    \n",
    "Compound.topologies = ListType(ModelType(Topology))"
   ]
  },
  {
   "cell_type": "code",
   "execution_count": 105,
   "metadata": {},
   "outputs": [],
   "source": [
    "import re\n",
    "from chemdataextractor.parse import R, I, W, Optional, merge\n",
    "from chemdataextractor.parse.common import lbrct, dt, rbrct\n",
    "\n",
    "\n",
    "identifier = Optional(I(u'topology')).hide()\n",
    "topology = (I(u'pcu') | I(u'dia') | I(u'kat') | I(u'SCU') | I(u'tbo') | I(u'dia-a'))(u'abrv').add_action(merge)\n",
    "full = Optional(I(u'diamondoid'))(u'full') #the string corresponds to the reference below. Still not sure what the syntax\n",
    "tp = (full + topology + identifier)(u'tp')"
   ]
  },
  {
   "cell_type": "code",
   "execution_count": 106,
   "metadata": {},
   "outputs": [],
   "source": [
    "from chemdataextractor.parse.cem import cem, chemical_label, lenient_chemical_label, solvent_name\n",
    "from chemdataextractor.parse.elements import W, I, R, Optional, Any, OneOrMore, Not, ZeroOrMore\n",
    "\n",
    "bracket_any = lbrct + OneOrMore(Not(tp) + Not(rbrct) + Any()) + rbrct\n",
    "delim = R('^[:;\\.,]$')\n",
    "cem_tp_phrase = (Optional(cem) + Optional(chemical_label) + Optional(lenient_chemical_label) + Optional(I('having')).hide() + Optional(delim).hide() + Optional(bracket_any).hide() + Optional(delim).hide() + Optional(lbrct) + tp + Optional(rbrct))('top_phrase')\n",
    "to_give_tp_phrase = (Optional((I('defective') + I('to') + (I('give') | I('afford') | I('yield') | I('obtain')) | I('affording') | I('afforded') | I('gave') | I('yielded'))).hide() + Optional(dt).hide() + (cem | chemical_label | lenient_chemical_label) + Optional(ZeroOrMore(Not(tp) + Not(cem) + Any())).hide() + tp)('top_phrase')\n",
    "obtained_tp_phrase = ((cem | chemical_label | lenient_chemical_label) + (I('defective') | I('is') | I('are') | I('was')).hide() + Optional((I('afforded') | I('obtained') | I('yielded'))).hide() + Optional(ZeroOrMore(Not(tp) + Not(cem) + Any())).hide() + tp)('top_phrase')\n",
    "\n",
    "tp_phrase = cem_tp_phrase | to_give_tp_phrase | obtained_tp_phrase"
   ]
  },
  {
   "cell_type": "code",
   "execution_count": 107,
   "metadata": {},
   "outputs": [],
   "source": [
    "from chemdataextractor.parse.base import BaseParser\n",
    "from chemdataextractor.utils import first\n",
    "\n",
    "class cem_TpParser(BaseParser):\n",
    "    \"\"\"\"\"\"\n",
    "    root = tp_phrase\n",
    "\n",
    "    def interpret(self, result, start, end):\n",
    "        compound = Compound(\n",
    "            topologies=[\n",
    "                Topology(\n",
    "                    full =first(result.xpath('./tp/full/text()')), #./ means it is searching relative\n",
    "                    abrv =first(result.xpath('./tp/abrv/text()')) #text() selects the text nodes\n",
    "                )\n",
    "            ]\n",
    "        )\n",
    "        cem_el = first(result.xpath('./cem'))\n",
    "        if cem_el is not None:\n",
    "            compound.names = cem_el.xpath('./name/text()')\n",
    "            compound.labels = cem_el.xpath('./label/text()')\n",
    "        yield compound"
   ]
  },
  {
   "cell_type": "code",
   "execution_count": 108,
   "metadata": {},
   "outputs": [],
   "source": [
    "Paragraph.parsers = [cem_TpParser()]"
   ]
  },
  {
   "cell_type": "code",
   "execution_count": 109,
   "metadata": {},
   "outputs": [],
   "source": [
    "a = Document(\n",
    "    Paragraph(u'Another exciting example is found in the application of an organosulfate-based MOF, TMOF-3, with a defective pcu topology') #took out organosulfate to simplify things\n",
    "\n",
    ") #taken from ding et al"
   ]
  },
  {
   "cell_type": "code",
   "execution_count": 110,
   "metadata": {},
   "outputs": [
    {
     "data": {
      "text/plain": [
       "[{'names': ['TMOF-3'], 'topologies': [{'abrv': 'pcu'}]}]"
      ]
     },
     "execution_count": 110,
     "metadata": {},
     "output_type": "execute_result"
    }
   ],
   "source": [
    "a.records.serialize()"
   ]
  },
  {
   "cell_type": "code",
   "execution_count": 111,
   "metadata": {},
   "outputs": [],
   "source": [
    "b = Document(\n",
    "    Paragraph(u'ZIF-8 polymorph with kat-topology and its rapid conversion to the thermodynamically-stable and non-porous diatopology')\n",
    ")\n",
    "#taken from Julien et al\n",
    "#how do I handle instances where the chemical name is before or after the first mention of topology?"
   ]
  },
  {
   "cell_type": "code",
   "execution_count": 112,
   "metadata": {},
   "outputs": [
    {
     "data": {
      "text/plain": [
       "[{'names': ['ZIF-8'], 'topologies': [{'abrv': 'kat'}]}]"
      ]
     },
     "execution_count": 112,
     "metadata": {},
     "output_type": "execute_result"
    }
   ],
   "source": [
    "b.records.serialize()"
   ]
  },
  {
   "cell_type": "code",
   "execution_count": 113,
   "metadata": {},
   "outputs": [],
   "source": [
    "c = Document(\n",
    "    Paragraph(u'by more bridging by TCPB4- linkers (Fig. 1B) in a SCU topology')\n",
    ") #from Safaei et al"
   ]
  },
  {
   "cell_type": "code",
   "execution_count": 114,
   "metadata": {},
   "outputs": [
    {
     "data": {
      "text/plain": [
       "[{'names': ['TCPB4-'], 'topologies': [{'abrv': 'SCU'}]}]"
      ]
     },
     "execution_count": 114,
     "metadata": {},
     "output_type": "execute_result"
    }
   ],
   "source": [
    "c.records.serialize()"
   ]
  },
  {
   "cell_type": "code",
   "execution_count": 115,
   "metadata": {},
   "outputs": [],
   "source": [
    "d = Document(\n",
    "    Paragraph(u'It is well known that MOF-53 and its isoreticular structures of pcu topology11 † can be obtained by interconnecting the [Zn4O(COO)6] SBUs as a 6-c octahedral node using various rigid linear organic ligands as a 2-c linker.')\n",
    ") #from Kim et al "
   ]
  },
  {
   "cell_type": "code",
   "execution_count": 116,
   "metadata": {},
   "outputs": [
    {
     "data": {
      "text/plain": [
       "[{'names': ['MOF-53'], 'topologies': [{'abrv': 'pcu'}]}]"
      ]
     },
     "execution_count": 116,
     "metadata": {},
     "output_type": "execute_result"
    }
   ],
   "source": [
    "d.records.serialize() #Doesn't recognize if it's just 'MOF-5'"
   ]
  },
  {
   "cell_type": "code",
   "execution_count": 117,
   "metadata": {},
   "outputs": [],
   "source": [
    "e = Document(\n",
    "    Paragraph(u'Although HKUST-1 of tbo topology is quite different from'),\n",
    ")\n",
    "#might need to add HKUST-1 to the cem dictionary"
   ]
  },
  {
   "cell_type": "code",
   "execution_count": 118,
   "metadata": {},
   "outputs": [
    {
     "data": {
      "text/plain": [
       "[]"
      ]
     },
     "execution_count": 118,
     "metadata": {},
     "output_type": "execute_result"
    }
   ],
   "source": [
    "e.records.serialize()"
   ]
  },
  {
   "cell_type": "code",
   "execution_count": 119,
   "metadata": {},
   "outputs": [],
   "source": [
    "f = Document(\n",
    "    Paragraph(u'The network [Cd4(SPh)6](SPh)2 (SPh = benzenethiolate) is an example having dia-a topology, where the tetrahedral MOP consisting of four corner-linked 4-c [Cu(I)(SPh)4] nodes in a tetrahedral'),\n",
    ")"
   ]
  },
  {
   "cell_type": "code",
   "execution_count": 120,
   "metadata": {},
   "outputs": [
    {
     "data": {
      "text/plain": [
       "[{'names': ['benzenethiolate'], 'topologies': [{'abrv': 'dia-a'}]}]"
      ]
     },
     "execution_count": 120,
     "metadata": {},
     "output_type": "execute_result"
    }
   ],
   "source": [
    "f.records.serialize() #misidentifies the compound - should be [Cd4(SPh)6(SPh)2]"
   ]
  },
  {
   "cell_type": "code",
   "execution_count": null,
   "metadata": {},
   "outputs": [],
   "source": []
  }
 ],
 "metadata": {
  "kernelspec": {
   "display_name": "Python 3",
   "language": "python",
   "name": "python3"
  },
  "language_info": {
   "codemirror_mode": {
    "name": "ipython",
    "version": 3
   },
   "file_extension": ".py",
   "mimetype": "text/x-python",
   "name": "python",
   "nbconvert_exporter": "python",
   "pygments_lexer": "ipython3",
   "version": "3.7.6"
  }
 },
 "nbformat": 4,
 "nbformat_minor": 4
}
