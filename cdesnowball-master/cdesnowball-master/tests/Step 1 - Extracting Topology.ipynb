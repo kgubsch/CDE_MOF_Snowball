{
 "cells": [
  {
   "cell_type": "code",
   "execution_count": 15,
   "metadata": {},
   "outputs": [],
   "source": [
    "from __future__ import absolute_import\n",
    "from __future__ import division\n",
    "from __future__ import print_function\n",
    "from __future__ import unicode_literals\n",
    "import logging\n",
    "import re\n",
    "\n",
    "from chemdataextractor import Document\n",
    "from chemdataextractor.model import Compound\n",
    "from chemdataextractor.doc import Paragraph, Heading\n",
    "\n",
    "from chemdataextractor.parse.cem import cem, chemical_label, lenient_chemical_label, solvent_name\n",
    "from chemdataextractor.parse.common import lbrct, dt, rbrct\n",
    "from chemdataextractor.utils import first\n",
    "from chemdataextractor.model import Compound, Capacity\n",
    "from chemdataextractor.parse.actions import merge, join\n",
    "from chemdataextractor.parse.base import BaseParser\n",
    "from chemdataextractor.parse.elements import W, I, R, Optional, Any, OneOrMore, Not, ZeroOrMore"
   ]
  },
  {
   "cell_type": "markdown",
   "metadata": {},
   "source": [
    "Step 1: Extracting only topology"
   ]
  },
  {
   "cell_type": "code",
   "execution_count": 16,
   "metadata": {},
   "outputs": [],
   "source": [
    "d = Document(\n",
    "    Paragraph(u'Another exciting example is found in the application of an organosulfonate-based MOF, TMOF-3, with a defective pcu topology')\n",
    ")"
   ]
  },
  {
   "cell_type": "code",
   "execution_count": 17,
   "metadata": {},
   "outputs": [
    {
     "data": {
      "text/html": [
       "<div class=\"cde-document\">\n",
       "<p class=\"cde-paragraph\">Another exciting example is found in the application of an organosulfonate-based MOF, TMOF-3, with a defective pcu topology</p>\n",
       "</div>"
      ],
      "text/plain": [
       "<Document: 1 elements>"
      ]
     },
     "execution_count": 17,
     "metadata": {},
     "output_type": "execute_result"
    }
   ],
   "source": [
    "d"
   ]
  },
  {
   "cell_type": "code",
   "execution_count": 18,
   "metadata": {
    "scrolled": true
   },
   "outputs": [
    {
     "data": {
      "text/plain": [
       "[{'names': ['organosulfonate']}, {'names': ['TMOF-3']}]"
      ]
     },
     "execution_count": 18,
     "metadata": {},
     "output_type": "execute_result"
    }
   ],
   "source": [
    "d.records.serialize()"
   ]
  },
  {
   "cell_type": "code",
   "execution_count": 19,
   "metadata": {},
   "outputs": [],
   "source": [
    "from chemdataextractor.model import BaseModel, StringType, ListType, ModelType\n",
    "\n",
    "#Topology class is created with the BaseModel class as an argument\n",
    "class Topology(BaseModel):\n",
    "    full = StringType(contextual = True) \n",
    "    abrv = StringType()\n",
    "    \n",
    "Compound.topologies = ListType(ModelType(Topology))"
   ]
  },
  {
   "cell_type": "code",
   "execution_count": 20,
   "metadata": {},
   "outputs": [],
   "source": [
    "import re\n",
    "from chemdataextractor.parse import R, I, W, Optional, merge\n",
    "from chemdataextractor.parse.common import lbrct, dt, rbrct\n",
    "\n",
    "identifier = (I(u'topology')).hide()\n",
    "topology = (Optional(I(u'dia')) + Optional(u'pcu'))(u'abrv').add_action(merge)\n",
    "full = I(u'diamondoid')(u'full') #the string corresponds to the reference below. Still not sure what the syntax\n",
    "tp = (Optional(full) + Optional(topology) + Optional(identifier))(u'tp')"
   ]
  },
  {
   "cell_type": "code",
   "execution_count": 21,
   "metadata": {},
   "outputs": [
    {
     "data": {
      "text/plain": [
       "'The yield statement suspends function’s execution and sends a value back to the caller, but retains enough state to enable\\nfunction to resume where it is left off. When resumed, the function continues execution immediately after \\nthe last yield run. This allows its code to produce a series of values over time, rather than \\ncomputing them at once and sending them back like a list.'"
      ]
     },
     "execution_count": 21,
     "metadata": {},
     "output_type": "execute_result"
    }
   ],
   "source": [
    "from chemdataextractor.parse.base import BaseParser\n",
    "from chemdataextractor.utils import first\n",
    "\n",
    "class TopParser(BaseParser):\n",
    "    root = tp\n",
    "\n",
    "    def interpret(self, result, start, end):\n",
    "        compound = Compound(\n",
    "            topologies=[\n",
    "                Topology(\n",
    "                    full =first(result.xpath('./full/text()')), #./ means it is searching relative\n",
    "                    abrv =first(result.xpath('./abrv/text()')) #text() selects the text nodes\n",
    "                )\n",
    "            ]\n",
    "        )\n",
    "        yield compound\n",
    "\n",
    "'''The yield statement suspends function’s execution and sends a value back to the caller, but retains enough state to enable\n",
    "function to resume where it is left off. When resumed, the function continues execution immediately after \n",
    "the last yield run. This allows its code to produce a series of values over time, rather than \n",
    "computing them at once and sending them back like a list.'''"
   ]
  },
  {
   "cell_type": "code",
   "execution_count": 22,
   "metadata": {},
   "outputs": [],
   "source": [
    "Paragraph.parsers = [TopParser()]"
   ]
  },
  {
   "cell_type": "code",
   "execution_count": 23,
   "metadata": {},
   "outputs": [],
   "source": [
    "d = Document(\n",
    "    Paragraph(u'Another exciting example is found in the application of an organosulfonate-based MOF, TMOF-3, with a defective pcu topology')\n",
    ")"
   ]
  },
  {
   "cell_type": "code",
   "execution_count": 24,
   "metadata": {},
   "outputs": [
    {
     "data": {
      "text/plain": [
       "[{'topologies': [{'abrv': 'pcu'}]}]"
      ]
     },
     "execution_count": 24,
     "metadata": {},
     "output_type": "execute_result"
    }
   ],
   "source": [
    "d.records.serialize()"
   ]
  },
  {
   "cell_type": "markdown",
   "metadata": {},
   "source": [
    "Step 2: Extracting Chemical Name and Topology"
   ]
  },
  {
   "cell_type": "code",
   "execution_count": 3,
   "metadata": {},
   "outputs": [],
   "source": [
    "d = Document(\n",
    "    Paragraph(u'Another exciting example is found in the application of an organosulfonate-based MOF, TMOF-3, with a defective pcu topology')\n",
    ")"
   ]
  },
  {
   "cell_type": "code",
   "execution_count": 4,
   "metadata": {},
   "outputs": [
    {
     "data": {
      "text/plain": [
       "[{'names': ['organosulfonate']}, {'names': ['TMOF-3']}]"
      ]
     },
     "execution_count": 4,
     "metadata": {},
     "output_type": "execute_result"
    }
   ],
   "source": [
    "d.records.serialize()"
   ]
  },
  {
   "cell_type": "code",
   "execution_count": 10,
   "metadata": {},
   "outputs": [],
   "source": [
    "import re\n",
    "from chemdataextractor.parse import R, I, W, Optional, merge\n",
    "from chemdataextractor.parse.common import lbrct, dt, rbrct\n",
    "\n",
    "identifier = (I(u'topology')).hide()\n",
    "topology = (Optional(I(u'dia')) + Optional(u'pcu'))(u'abrv').add_action(merge)\n",
    "full = I(u'diamondoid')(u'full') #the string corresponds to the reference below. Still not sure what the syntax\n",
    "tp = (Optional(full) + Optional(topology) + Optional(identifier))(u'tp')"
   ]
  },
  {
   "cell_type": "code",
   "execution_count": 11,
   "metadata": {},
   "outputs": [],
   "source": [
    "from chemdataextractor.parse.cem import cem, chemical_label, lenient_chemical_label, solvent_name\n",
    "from chemdataextractor.parse.elements import W, I, R, Optional, Any, OneOrMore, Not, ZeroOrMore\n",
    "\n",
    "bracket_any = lbrct + OneOrMore(Not(tp) + Not(rbrct) + Any()) + rbrct\n",
    "delim = R('^[:;\\.,]$')\n",
    "cem_tp_phrase = (Optional(cem) + Optional(chemical_label) + Optional(lenient_chemical_label) + Optional(I('having')).hide() + Optional(delim).hide() + Optional(bracket_any).hide() + Optional(delim).hide() + Optional(lbrct) + tp + Optional(rbrct))('top_phrase')\n",
    "to_give_tp_phrase = ((I('to') + (I('give') | I('afford') | I('yield') | I('obtain')) | I('affording') | I('afforded') | I('gave') | I('yielded')).hide() + Optional(dt).hide() + (cem | chemical_label | lenient_chemical_label) + ZeroOrMore(Not(tp) + Not(cem) + Any()).hide() + tp)('top_phrase')\n",
    "obtained_tp_phrase = ((cem | chemical_label | lenient_chemical_label) + (I('is') | I('are') | I('was')).hide() + (I('afforded') | I('obtained') | I('yielded')).hide() + ZeroOrMore(Not(tp) + Not(cem) + Any()).hide() + tp)('top_phrase')\n",
    "\n",
    "tp_phrase = Optional(cem_tp_phrase) | Optional(to_give_tp_phrase) | Optional(obtained_tp_phrase)"
   ]
  },
  {
   "cell_type": "code",
   "execution_count": 12,
   "metadata": {},
   "outputs": [],
   "source": [
    "from chemdataextractor.parse.base import BaseParser\n",
    "from chemdataextractor.utils import first\n",
    "\n",
    "class cem_TopParser(BaseParser):\n",
    "    root = tp_phrase\n",
    "\n",
    "    def interpret(self, result, start, end):\n",
    "        compound = Compound(\n",
    "            topologies=[\n",
    "                Topology(\n",
    "                    full =first(result.xpath('./full/text()')), #./ means it is searching relative\n",
    "                    abrv =first(result.xpath('./abrv/text()')) #text() selects the text nodes\n",
    "                )\n",
    "            ]\n",
    "        )\n",
    "        if cem_el is not None:\n",
    "            compound.names = cem_el.xpath('./name/text()')\n",
    "            compound.labels = cem_el.xpath('./label/text()')\n",
    "        yield compound"
   ]
  },
  {
   "cell_type": "code",
   "execution_count": 13,
   "metadata": {},
   "outputs": [],
   "source": [
    "c = Document(\n",
    "    Paragraph(u'Another exciting example is found in the application of an organosulfonate-based MOF, TMOF-3, with a defective pcu topology')\n",
    ")"
   ]
  },
  {
   "cell_type": "code",
   "execution_count": 14,
   "metadata": {},
   "outputs": [
    {
     "data": {
      "text/plain": [
       "[{'names': ['organosulfonate']}, {'names': ['TMOF-3']}]"
      ]
     },
     "execution_count": 14,
     "metadata": {},
     "output_type": "execute_result"
    }
   ],
   "source": [
    "c.records.serialize()"
   ]
  },
  {
   "cell_type": "code",
   "execution_count": null,
   "metadata": {},
   "outputs": [],
   "source": []
  }
 ],
 "metadata": {
  "kernelspec": {
   "display_name": "Python 3",
   "language": "python",
   "name": "python3"
  },
  "language_info": {
   "codemirror_mode": {
    "name": "ipython",
    "version": 3
   },
   "file_extension": ".py",
   "mimetype": "text/x-python",
   "name": "python",
   "nbconvert_exporter": "python",
   "pygments_lexer": "ipython3",
   "version": "3.7.6"
  }
 },
 "nbformat": 4,
 "nbformat_minor": 4
}
