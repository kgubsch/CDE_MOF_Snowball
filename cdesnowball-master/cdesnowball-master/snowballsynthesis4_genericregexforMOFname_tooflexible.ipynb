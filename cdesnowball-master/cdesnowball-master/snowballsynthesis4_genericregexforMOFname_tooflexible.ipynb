{
 "cells": [
  {
   "cell_type": "markdown",
   "metadata": {},
   "source": [
    "## Snowball Relationship Extraction"
   ]
  },
  {
   "cell_type": "markdown",
   "metadata": {},
   "source": [
    "The new Relex package is a toolkit for performing probabilistic chemical relationship extraction based on semi-supervised online learning. The aim is to train parse expressions probabilistically, removing the need for creating parsers with trial and error.\n",
    "\n",
    "This overview is based on how to use the code, for a detailed explanation of the algorithm please see the associated paper: https://www.nature.com/articles/sdata2018111\n"
   ]
  },
  {
   "cell_type": "markdown",
   "metadata": {},
   "source": [
    "In general, chemical relationships can consist of any number of entities, that is, the elements of a relationship that are linked together to uniquely define it. Here we will focus on a simple Curie Temperature relationship that consists of the following entities:\n",
    "- A compound\n",
    "- A specifier\n",
    "- A synthesis\n",
    "- A unit\n",
    "\n",
    "Thus this forms a quaternary relationship. Note the algorithm is generalm and so any number of entities can be specified. You can even make some entities more important than others.\n",
    "\n",
    "First define a new model, as usual:"
   ]
  },
  {
   "cell_type": "code",
   "execution_count": 1,
   "metadata": {},
   "outputs": [],
   "source": [
    "from chemdataextractor.relex import Snowball, ChemicalRelationship\n",
    "from chemdataextractor.model import BaseModel, StringType, ListType, ModelType, Compound\n",
    "import re\n",
    "from chemdataextractor.parse import R, I, W, Optional, merge, join, OneOrMore, Any, ZeroOrMore, Start\n",
    "from chemdataextractor.parse.cem import chemical_name, chemical_label\n",
    "from chemdataextractor.parse.base import BaseParser\n",
    "from chemdataextractor.parse.common import lrb, rrb, delim\n",
    "from chemdataextractor.utils import first\n",
    "from chemdataextractor.doc import Paragraph, Heading, Sentence\n",
    "from lxml import etree\n",
    "\n",
    "class SynthesisRoute(BaseModel):\n",
    "    specifier = StringType()\n",
    "    synthesis = StringType()\n",
    "    MOF = StringType()\n",
    "\n",
    "Compound.synthesis_routes = ListType(ModelType(SynthesisRoute))"
   ]
  },
  {
   "cell_type": "markdown",
   "metadata": {},
   "source": [
    "Now define parse elements that describe how to identify the entities in text. Think of these as tagging processes."
   ]
  },
  {
   "cell_type": "code",
   "execution_count": 2,
   "metadata": {},
   "outputs": [],
   "source": [
    "# Define a very basic entity tagger\n",
    "specifier = ((R(u'^[Ss]ynthe((si(s|sed|zed|se|ze))|tic|ses)?$')| R(u'^[Pp]repar(ation|ed|e)?$')| R(u'^[Pp]roduc(tion|e|ed)?$')))('specifier').add_action(join)\n",
    "specifier.tag = 'specifier'\n",
    "#add yielded, crystallized, formation, formed etc\n",
    "MOF = ((R('^[A-Za-z0-9_-]+$')))('MOF').add_action(merge)\n",
    "#change to unicode\n",
    "MOF.tag = 'MOF'\n",
    "synthesis = ((R(u'^[SsHh](olv|ydr)othermal(ly)?$')|R(u'^[eEmMsS](lectr|on|echan)ochemical(ly)?$')))('synthesis')\n",
    "synthesis.tag = 'synthesis'\n",
    "#synthesis = (R(u'^[SsHh](olv|ydr)othermal(ly)?$')|R(u'^[eEmMsS](lectr|on|echan)ochemical(ly)?$'))\n",
    "#synthesis.tag = 'synthesis'"
   ]
  },
  {
   "cell_type": "markdown",
   "metadata": {},
   "source": [
    "Note we tag each with a unique identifier that will be used later. Now let the entities in a sentence be any ordering of these (or whatever ordering you feel like). Here we specify that the synthesis and units must coincide, but this does not have to be the case. \n",
    "\n",
    "We also define an extremely general parse phrase, this will be used to identify candidate sentences."
   ]
  },
  {
   "cell_type": "code",
   "execution_count": 3,
   "metadata": {},
   "outputs": [],
   "source": [
    "# Let the entities be any combination of chemical names, specifier synthesiss and units\n",
    "entities = ( specifier|synthesis|MOF)\n",
    "# Now create a very generic parse phrase that will match any combination of these entities\n",
    "synthesis_route_phrase = (entities + OneOrMore(entities | Any()))('synthesis_route')\n",
    "\n",
    "# List all the entities\n",
    "synthesis_route_entities = [ specifier,synthesis,MOF]"
   ]
  },
  {
   "cell_type": "markdown",
   "metadata": {},
   "source": [
    "We are now ready to start Snowballing. Lets formalise our ChemicalRelationship passing in the entities, the extraction phrase and a name."
   ]
  },
  {
   "cell_type": "code",
   "execution_count": 4,
   "metadata": {},
   "outputs": [],
   "source": [
    "synthesis_route_relationship = ChemicalRelationship(synthesis_route_entities, synthesis_route_phrase, name='synthesis_routes')"
   ]
  },
  {
   "cell_type": "markdown",
   "metadata": {},
   "source": [
    "Now create a ```Snowball``` object to use on our relationship and point to a path for training.\n",
    "\n",
    "Here will we use the default parameters:\n",
    "- TC = 0.95, the minimum Confidence required for a new relationship to be accepted\n",
    "- Tsim=0.95, The minimum similarity between phrases for them to be clustered together\n",
    "- learning_rate = 0.5, How quickly the system updates the confidences based on new information\n",
    "- Prefix_length=1, number of tokens in phrase prefix\n",
    "- suffix_length = 1, number of tokens in phrase suffix\n",
    "- prefix_weight = 0.1, the weight of the prefix in determining similarity\n",
    "- middles_weight = 0.8, the weight of the middles in determining similarity\n",
    "- suffix_weight  = 0.1, weight of suffix in determining similarity\n",
    "\n",
    "Note increasing TC and Tsim yields more extraction patterns but stricter rules on new relations\n",
    "Increasing the learning rate influences how much we trust new information compared to our training\n",
    "Increasing the prefix/suffix length increases the likelihood of getting overlapping relationships\n",
    "\n",
    "\n",
    "The training process in online. This means that the user can train the system on as many papers as they like, and it will continue to update the knowledge base. At each paper, the sentences are scanned for any matches to the parse phrase, and if the sentence matches, candidate relationships are formed. There can be many candidate relationships in a single sentence, so the output provides the user will all available candidates. \n",
    "\n",
    "The user can specify to accept a relationship by typing in the number (or numbers) of the candidates they wish to accept. I.e. If you want candidate 0 only, type '0' then press enter. If you want 0 and 3 type '0,3' and press enter. If you dont want any, then press any other key. e.g. 'n' or 'no'. \n"
   ]
  },
  {
   "cell_type": "code",
   "execution_count": 5,
   "metadata": {},
   "outputs": [],
   "source": [
    "snowball = Snowball(synthesis_route_relationship)"
   ]
  },
  {
   "cell_type": "code",
   "execution_count": null,
   "metadata": {
    "scrolled": false
   },
   "outputs": [
    {
     "name": "stdout",
     "output_type": "stream",
     "text": [
      "1/8:   Efficient Mechanochemical Synthesis of MOF-5 for Linear Alkanes Adsorption _ Journal of Chemical & Engineering Data.html\n",
      "\n",
      "\n",
      "\n",
      "Efficient Mechanochemical Synthesis of MOF-5 for Linear Alkanes Adsorption\n",
      "\n",
      "\n",
      "Candidate 0 <(Efficient,MOF,0,1), (Mechanochemical,synthesis,1,2), (Synthesis,specifier,2,3)>\n",
      "\n",
      "Candidate 1 <(Mechanochemical,synthesis,1,2), (Synthesis,specifier,2,3), (of,MOF,3,4)>\n",
      "\n",
      "Candidate 2 <(Mechanochemical,synthesis,1,2), (Synthesis,specifier,2,3), (MOF-5,MOF,4,5)>\n",
      "\n",
      "Candidate 3 <(Mechanochemical,synthesis,1,2), (Synthesis,specifier,2,3), (for,MOF,5,6)>\n",
      "\n",
      "Candidate 4 <(Mechanochemical,synthesis,1,2), (Synthesis,specifier,2,3), (Linear,MOF,6,7)>\n",
      "\n",
      "Candidate 5 <(Mechanochemical,synthesis,1,2), (Synthesis,specifier,2,3), (Alkanes,MOF,7,8)>\n",
      "\n",
      "Candidate 6 <(Mechanochemical,synthesis,1,2), (Synthesis,specifier,2,3), (Adsorption,MOF,8,9)>\n",
      "\n"
     ]
    }
   ],
   "source": [
    "snowball.train(corpus='tests/data/relex/MOF_synthesis_training_set/')"
   ]
  },
  {
   "cell_type": "code",
   "execution_count": null,
   "metadata": {},
   "outputs": [],
   "source": [
    "0"
   ]
  },
  {
   "cell_type": "markdown",
   "metadata": {},
   "source": [
    "This training process automatically clusters the sentences you accept and updates the knowlede base. You can check what has been learned by searching in the relex/data folder. \n",
    "\n",
    "You can always stop training and start again, or come back to the same training process if you wish, simply load in an existing snowball system using: ```Snowball.load()```"
   ]
  },
  {
   "cell_type": "markdown",
   "metadata": {},
   "source": [
    "Looking into data/relex/synthesis_routes_patterns.txt, we see what patterns were learned from our training:\n",
    "\n",
    " name_1 is a ferromagnetic transition metal exhibiting a high specifier_1 of synthesis_1  units_1 ( with confidence score 1.0\n",
    "\n",
    "the name_1 nanocrystals show a transition temperature specifier_1 at around synthesis_1  units_1 ( with confidence score 1.0\n",
    "\n",
    "the specifier_1  synthesis_1  units_1 ) of bulk name_1 suggests with confidence score 1.0\n",
    "\n",
    " name_1 is ferromagnetic with a specifier_1 of synthesis_1  units_1 and with confidence score 1.0\n",
    "\n",
    ", name_1 has recently attracted much attention due to its high specifier_1 ∼ synthesis_1  units_1 ) with confidence score 1.0\n",
    "\n",
    " name_1 is probably the most studied half metal because of it high specifier_1 ∼ synthesis_1  units_1 ) with confidence score 1.0\n",
    "\n",
    ", name_1 has a high spin polarization ( > 95 % )118 and a specifier_1 of synthesis_1  units_1 . with confidence score 1.0\n",
    "\n",
    ", name_1 ( name_2 ) has received the most attention , due to its high ferroelectric specifier_1 ∼ synthesis_1  units_1 ) with confidence score 1.0\n",
    "\n",
    "\n"
   ]
  },
  {
   "cell_type": "markdown",
   "metadata": {},
   "source": [
    "Now let's extract a new relationship from a previously unseen sentence. We will save to a different file so we can see the new clusters afterwards. We hope that the sentence will be similar enough to a previously seen sentence in order for us to extract the new relationship."
   ]
  },
  {
   "cell_type": "code",
   "execution_count": 11,
   "metadata": {},
   "outputs": [
    {
     "name": "stdout",
     "output_type": "stream",
     "text": [
      "Found relationship: None\n"
     ]
    },
    {
     "ename": "TypeError",
     "evalue": "'NoneType' object is not subscriptable",
     "output_type": "error",
     "traceback": [
      "\u001b[1;31m---------------------------------------------------------------------------\u001b[0m",
      "\u001b[1;31mTypeError\u001b[0m                                 Traceback (most recent call last)",
      "\u001b[1;32m<ipython-input-11-66e757200103>\u001b[0m in \u001b[0;36m<module>\u001b[1;34m\u001b[0m\n\u001b[0;32m      3\u001b[0m \u001b[0mrels\u001b[0m \u001b[1;33m=\u001b[0m \u001b[0msnowball\u001b[0m\u001b[1;33m.\u001b[0m\u001b[0mextract\u001b[0m\u001b[1;33m(\u001b[0m\u001b[0mtest_sentence\u001b[0m\u001b[1;33m)\u001b[0m\u001b[1;33m\u001b[0m\u001b[1;33m\u001b[0m\u001b[0m\n\u001b[0;32m      4\u001b[0m \u001b[0mprint\u001b[0m\u001b[1;33m(\u001b[0m\u001b[1;34m\"Found relationship:\"\u001b[0m\u001b[1;33m,\u001b[0m \u001b[0mrels\u001b[0m\u001b[1;33m)\u001b[0m\u001b[1;33m\u001b[0m\u001b[1;33m\u001b[0m\u001b[0m\n\u001b[1;32m----> 5\u001b[1;33m \u001b[0mprint\u001b[0m\u001b[1;33m(\u001b[0m\u001b[0mrels\u001b[0m\u001b[1;33m[\u001b[0m\u001b[1;36m0\u001b[0m\u001b[1;33m]\u001b[0m\u001b[1;33m.\u001b[0m\u001b[0mconfidence\u001b[0m\u001b[1;33m)\u001b[0m\u001b[1;33m\u001b[0m\u001b[1;33m\u001b[0m\u001b[0m\n\u001b[0m",
      "\u001b[1;31mTypeError\u001b[0m: 'NoneType' object is not subscriptable"
     ]
    }
   ],
   "source": [
    "snowball.save_file_name = 'synthesis_route_new'\n",
    "test_sentence = Sentence('In situ electrochemical synthesis of MOF-5 and its application in improving photocatalytic activity of BiOBr')\n",
    "rels = snowball.extract(test_sentence)\n",
    "print(\"Found relationship:\", rels)\n",
    "print(rels[0].confidence)"
   ]
  },
  {
   "cell_type": "markdown",
   "metadata": {},
   "source": [
    "As we can see, we found the right entities. Lets see how confident we are in this relation"
   ]
  },
  {
   "cell_type": "code",
   "execution_count": 10,
   "metadata": {},
   "outputs": [
    {
     "ename": "TypeError",
     "evalue": "'NoneType' object is not subscriptable",
     "output_type": "error",
     "traceback": [
      "\u001b[1;31m---------------------------------------------------------------------------\u001b[0m",
      "\u001b[1;31mTypeError\u001b[0m                                 Traceback (most recent call last)",
      "\u001b[1;32m<ipython-input-10-2cd52e2715e8>\u001b[0m in \u001b[0;36m<module>\u001b[1;34m\u001b[0m\n\u001b[1;32m----> 1\u001b[1;33m \u001b[0mprint\u001b[0m\u001b[1;33m(\u001b[0m\u001b[0mrels\u001b[0m\u001b[1;33m[\u001b[0m\u001b[1;36m0\u001b[0m\u001b[1;33m]\u001b[0m\u001b[1;33m.\u001b[0m\u001b[0mconfidence\u001b[0m\u001b[1;33m)\u001b[0m\u001b[1;33m\u001b[0m\u001b[1;33m\u001b[0m\u001b[0m\n\u001b[0m",
      "\u001b[1;31mTypeError\u001b[0m: 'NoneType' object is not subscriptable"
     ]
    }
   ],
   "source": [
    "print(rels[0].confidence)"
   ]
  },
  {
   "cell_type": "markdown",
   "metadata": {},
   "source": [
    "Lets look at the new clusters that have updated to reflect the new sentence: in ```curie_test_output_clusters```\n",
    "\n",
    "Cluster 3 contains 2 phrases\n",
    "\n",
    "CoS2 is ferromagnetic with a Curie temperature of 116 K and Co9S8 is antiferromagnetic with a Néel temperature above the decomposition temperature.28 The magnetic susceptibility of Ni3S2 was found to be temperature - independent , which is consistent with Pauli paramagnetism.\n",
    "     \n",
    "     \n",
    "BiFeO3 is ferromagnetic with a curie temperature of 1103 K and this is very interesting\n",
    "\n",
    "The cluster centroid pattern is:  name_1 is ferromagnetic with a specifier_1 of synthesis_1  units_1 and with confidence score 1.0\n",
    "\n"
   ]
  },
  {
   "cell_type": "markdown",
   "metadata": {},
   "source": [
    "So our sentence was assigned to Cluster 3 and the new extraction pattern confidence is 1.0."
   ]
  },
  {
   "cell_type": "markdown",
   "metadata": {},
   "source": [
    "Of course, this worked because our new sentence was (purposefully) similar to one that already existed in the training set. In order for this to work more gnereally you will need to train on a lot more than 7 examples."
   ]
  },
  {
   "cell_type": "code",
   "execution_count": null,
   "metadata": {},
   "outputs": [],
   "source": []
  }
 ],
 "metadata": {
  "anaconda-cloud": {},
  "kernelspec": {
   "display_name": "Python 3",
   "language": "python",
   "name": "python3"
  },
  "language_info": {
   "codemirror_mode": {
    "name": "ipython",
    "version": 3
   },
   "file_extension": ".py",
   "mimetype": "text/x-python",
   "name": "python",
   "nbconvert_exporter": "python",
   "pygments_lexer": "ipython3",
   "version": "3.8.5"
  }
 },
 "nbformat": 4,
 "nbformat_minor": 2
}
